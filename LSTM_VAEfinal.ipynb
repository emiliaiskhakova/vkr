{
  "cells": [
    {
      "cell_type": "code",
      "execution_count": null,
      "metadata": {
        "colab": {
          "base_uri": "https://localhost:8080/"
        },
        "id": "TMsFeVqwGjXL",
        "outputId": "be2d7bd3-e4a5-4d0e-fa04-5838efb837d4"
      },
      "outputs": [
        {
          "output_type": "stream",
          "name": "stdout",
          "text": [
            "Cloning into 'SKAB'...\n",
            "remote: Enumerating objects: 802, done.\u001b[K\n",
            "remote: Counting objects: 100% (139/139), done.\u001b[K\n",
            "remote: Compressing objects: 100% (66/66), done.\u001b[K\n",
            "remote: Total 802 (delta 103), reused 101 (delta 73), pack-reused 663\u001b[K\n",
            "Receiving objects: 100% (802/802), 31.84 MiB | 14.36 MiB/s, done.\n",
            "Resolving deltas: 100% (476/476), done.\n"
          ]
        }
      ],
      "source": [
        "!git clone https://github.com/waico/SKAB\n",
        "!mv SKAB/* ."
      ]
    },
    {
      "cell_type": "code",
      "execution_count": null,
      "metadata": {
        "id": "izXDpHTo6Imk"
      },
      "outputs": [],
      "source": [
        "from sklearn.metrics import accuracy_score\n",
        "import tensorflow as tf"
      ]
    },
    {
      "cell_type": "code",
      "execution_count": null,
      "metadata": {
        "id": "g3oaFHGSGG9l"
      },
      "outputs": [],
      "source": [
        "# libraries importing\n",
        "import pandas as pd\n",
        "import matplotlib.pyplot as plt\n",
        "%matplotlib inline\n",
        "import random\n",
        "\n",
        "# additional modules\n",
        "import sys\n",
        "sys.path.append('../algorithms')\n",
        "\n",
        "import warnings\n",
        "warnings.filterwarnings(\"ignore\", category=UserWarning)"
      ]
    },
    {
      "cell_type": "markdown",
      "metadata": {
        "id": "7FOLGhm6hs60"
      },
      "source": [
        "## data loading new"
      ]
    },
    {
      "cell_type": "code",
      "execution_count": null,
      "metadata": {
        "colab": {
          "base_uri": "https://localhost:8080/"
        },
        "id": "x9_9fqHsh4uS",
        "outputId": "93c1e376-0f4d-4c63-e4cf-351eb738a80b"
      },
      "outputs": [
        {
          "output_type": "stream",
          "name": "stdout",
          "text": [
            "Archive:  /content/spectra_without_anomaly_only_C.zip\n",
            "   creating: content/spectra_without_anomaly_only_C/\n",
            "  inflating: content/spectra_without_anomaly_only_C/dataframe_75.csv  \n",
            "  inflating: content/spectra_without_anomaly_only_C/dataframe_43.csv  \n",
            "  inflating: content/spectra_without_anomaly_only_C/dataframe_74.csv  \n",
            "  inflating: content/spectra_without_anomaly_only_C/dataframe_58.csv  \n",
            "  inflating: content/spectra_without_anomaly_only_C/dataframe_49.csv  \n",
            "  inflating: content/spectra_without_anomaly_only_C/dataframe_26.csv  \n",
            "  inflating: content/spectra_without_anomaly_only_C/dataframe_20.csv  \n",
            "  inflating: content/spectra_without_anomaly_only_C/dataframe_54.csv  \n",
            "  inflating: content/spectra_without_anomaly_only_C/dataframe_31.csv  \n",
            "  inflating: content/spectra_without_anomaly_only_C/dataframe_76.csv  \n",
            "  inflating: content/spectra_without_anomaly_only_C/dataframe_42.csv  \n",
            "  inflating: content/spectra_without_anomaly_only_C/dataframe_61.csv  \n",
            "  inflating: content/spectra_without_anomaly_only_C/dataframe_79.csv  \n",
            "  inflating: content/spectra_without_anomaly_only_C/dataframe_84.csv  \n",
            "  inflating: content/spectra_without_anomaly_only_C/dataframe_11.csv  \n",
            "  inflating: content/spectra_without_anomaly_only_C/dataframe_57.csv  \n",
            "  inflating: content/spectra_without_anomaly_only_C/dataframe_39.csv  \n",
            "  inflating: content/spectra_without_anomaly_only_C/dataframe_3.csv  \n",
            "  inflating: content/spectra_without_anomaly_only_C/dataframe_59.csv  \n",
            "  inflating: content/spectra_without_anomaly_only_C/dataframe_25.csv  \n",
            "  inflating: content/spectra_without_anomaly_only_C/dataframe_60.csv  \n",
            "  inflating: content/spectra_without_anomaly_only_C/dataframe_18.csv  \n",
            "  inflating: content/spectra_without_anomaly_only_C/dataframe_38.csv  \n",
            "  inflating: content/spectra_without_anomaly_only_C/dataframe_19.csv  \n",
            "  inflating: content/spectra_without_anomaly_only_C/dataframe_33.csv  \n",
            "  inflating: content/spectra_without_anomaly_only_C/dataframe_87.csv  \n",
            "  inflating: content/spectra_without_anomaly_only_C/dataframe_2.csv  \n",
            "  inflating: content/spectra_without_anomaly_only_C/dataframe_10.csv  \n",
            "  inflating: content/spectra_without_anomaly_only_C/dataframe_30.csv  \n",
            "  inflating: content/spectra_without_anomaly_only_C/dataframe_56.csv  \n",
            "  inflating: content/spectra_without_anomaly_only_C/dataframe_67.csv  \n",
            "  inflating: content/spectra_without_anomaly_only_C/dataframe_44.csv  \n",
            "  inflating: content/spectra_without_anomaly_only_C/dataframe_1.csv  \n",
            "  inflating: content/spectra_without_anomaly_only_C/dataframe_77.csv  \n",
            "  inflating: content/spectra_without_anomaly_only_C/dataframe_64.csv  \n",
            "  inflating: content/spectra_without_anomaly_only_C/dataframe_41.csv  \n",
            "  inflating: content/spectra_without_anomaly_only_C/dataframe_69.csv  \n",
            "  inflating: content/spectra_without_anomaly_only_C/dataframe_16.csv  \n",
            "  inflating: content/spectra_without_anomaly_only_C/dataframe_78.csv  \n",
            "  inflating: content/spectra_without_anomaly_only_C/dataframe_86.csv  \n",
            "  inflating: content/spectra_without_anomaly_only_C/dataframe_66.csv  \n",
            "  inflating: content/spectra_without_anomaly_only_C/dataframe_73.csv  \n",
            "  inflating: content/spectra_without_anomaly_only_C/dataframe_12.csv  \n",
            "  inflating: content/spectra_without_anomaly_only_C/dataframe_46.csv  \n",
            "  inflating: content/spectra_without_anomaly_only_C/dataframe_62.csv  \n",
            "  inflating: content/spectra_without_anomaly_only_C/dataframe_36.csv  \n",
            "  inflating: content/spectra_without_anomaly_only_C/dataframe_63.csv  \n",
            "  inflating: content/spectra_without_anomaly_only_C/dataframe_6.csv  \n",
            "  inflating: content/spectra_without_anomaly_only_C/dataframe_8.csv  \n",
            "  inflating: content/spectra_without_anomaly_only_C/dataframe_14.csv  \n",
            "  inflating: content/spectra_without_anomaly_only_C/dataframe_85.csv  \n",
            "  inflating: content/spectra_without_anomaly_only_C/dataframe_72.csv  \n",
            "  inflating: content/spectra_without_anomaly_only_C/dataframe_80.csv  \n",
            "  inflating: content/spectra_without_anomaly_only_C/dataframe_70.csv  \n",
            "  inflating: content/spectra_without_anomaly_only_C/dataframe_28.csv  \n",
            "  inflating: content/spectra_without_anomaly_only_C/dataframe_81.csv  \n",
            "  inflating: content/spectra_without_anomaly_only_C/dataframe_65.csv  \n",
            "  inflating: content/spectra_without_anomaly_only_C/dataframe_50.csv  \n",
            "  inflating: content/spectra_without_anomaly_only_C/dataframe_21.csv  \n",
            "  inflating: content/spectra_without_anomaly_only_C/dataframe_17.csv  \n",
            "  inflating: content/spectra_without_anomaly_only_C/dataframe_13.csv  \n",
            "  inflating: content/spectra_without_anomaly_only_C/dataframe_53.csv  \n",
            "  inflating: content/spectra_without_anomaly_only_C/dataframe_7.csv  \n",
            "  inflating: content/spectra_without_anomaly_only_C/dataframe_34.csv  \n",
            "  inflating: content/spectra_without_anomaly_only_C/dataframe_55.csv  \n",
            "  inflating: content/spectra_without_anomaly_only_C/dataframe_37.csv  \n",
            "  inflating: content/spectra_without_anomaly_only_C/dataframe_83.csv  \n",
            "  inflating: content/spectra_without_anomaly_only_C/dataframe_32.csv  \n",
            "  inflating: content/spectra_without_anomaly_only_C/dataframe_5.csv  \n",
            "  inflating: content/spectra_without_anomaly_only_C/dataframe_15.csv  \n",
            "  inflating: content/spectra_without_anomaly_only_C/dataframe_48.csv  \n",
            "  inflating: content/spectra_without_anomaly_only_C/dataframe_71.csv  \n",
            "  inflating: content/spectra_without_anomaly_only_C/dataframe_4.csv  \n",
            "  inflating: content/spectra_without_anomaly_only_C/dataframe_35.csv  \n",
            "  inflating: content/spectra_without_anomaly_only_C/dataframe_51.csv  \n",
            "  inflating: content/spectra_without_anomaly_only_C/dataframe_88.csv  \n",
            "  inflating: content/spectra_without_anomaly_only_C/dataframe_23.csv  \n",
            "  inflating: content/spectra_without_anomaly_only_C/dataframe_22.csv  \n",
            "  inflating: content/spectra_without_anomaly_only_C/dataframe_9.csv  \n",
            "  inflating: content/spectra_without_anomaly_only_C/dataframe_89.csv  \n",
            "  inflating: content/spectra_without_anomaly_only_C/dataframe_47.csv  \n",
            "  inflating: content/spectra_without_anomaly_only_C/dataframe_24.csv  \n",
            "  inflating: content/spectra_without_anomaly_only_C/dataframe_45.csv  \n",
            "  inflating: content/spectra_without_anomaly_only_C/dataframe_68.csv  \n",
            "  inflating: content/spectra_without_anomaly_only_C/dataframe_27.csv  \n",
            "  inflating: content/spectra_without_anomaly_only_C/dataframe_82.csv  \n",
            "  inflating: content/spectra_without_anomaly_only_C/dataframe_29.csv  \n",
            "  inflating: content/spectra_without_anomaly_only_C/dataframe_40.csv  \n",
            "  inflating: content/spectra_without_anomaly_only_C/dataframe_52.csv  \n",
            "  inflating: content/spectra_without_anomaly_only_C/dataframe_0.csv  \n",
            "Archive:  /content/spectra_anomaly_2_only_C.zip\n",
            "   creating: content/spectra_anomaly_2_only_C/\n",
            "  inflating: content/spectra_anomaly_2_only_C/dataframe_43.csv  \n",
            "  inflating: content/spectra_anomaly_2_only_C/dataframe_26.csv  \n",
            "  inflating: content/spectra_anomaly_2_only_C/dataframe_20.csv  \n",
            "  inflating: content/spectra_anomaly_2_only_C/dataframe_31.csv  \n",
            "  inflating: content/spectra_anomaly_2_only_C/dataframe_42.csv  \n",
            "  inflating: content/spectra_anomaly_2_only_C/dataframe_11.csv  \n",
            "  inflating: content/spectra_anomaly_2_only_C/dataframe_39.csv  \n",
            "  inflating: content/spectra_anomaly_2_only_C/dataframe_3.csv  \n",
            "  inflating: content/spectra_anomaly_2_only_C/dataframe_25.csv  \n",
            "  inflating: content/spectra_anomaly_2_only_C/dataframe_18.csv  \n",
            "  inflating: content/spectra_anomaly_2_only_C/dataframe_38.csv  \n",
            "  inflating: content/spectra_anomaly_2_only_C/dataframe_19.csv  \n",
            "  inflating: content/spectra_anomaly_2_only_C/dataframe_33.csv  \n",
            "  inflating: content/spectra_anomaly_2_only_C/dataframe_2.csv  \n",
            "  inflating: content/spectra_anomaly_2_only_C/dataframe_10.csv  \n",
            "  inflating: content/spectra_anomaly_2_only_C/dataframe_30.csv  \n",
            "  inflating: content/spectra_anomaly_2_only_C/dataframe_44.csv  \n",
            "  inflating: content/spectra_anomaly_2_only_C/dataframe_1.csv  \n",
            "  inflating: content/spectra_anomaly_2_only_C/dataframe_41.csv  \n",
            "  inflating: content/spectra_anomaly_2_only_C/dataframe_16.csv  \n",
            "  inflating: content/spectra_anomaly_2_only_C/dataframe_12.csv  \n",
            "  inflating: content/spectra_anomaly_2_only_C/dataframe_46.csv  \n",
            "  inflating: content/spectra_anomaly_2_only_C/dataframe_36.csv  \n",
            "  inflating: content/spectra_anomaly_2_only_C/dataframe_6.csv  \n",
            "  inflating: content/spectra_anomaly_2_only_C/dataframe_8.csv  \n",
            "  inflating: content/spectra_anomaly_2_only_C/dataframe_14.csv  \n",
            "  inflating: content/spectra_anomaly_2_only_C/dataframe_28.csv  \n",
            "  inflating: content/spectra_anomaly_2_only_C/dataframe_21.csv  \n",
            "  inflating: content/spectra_anomaly_2_only_C/dataframe_17.csv  \n",
            "  inflating: content/spectra_anomaly_2_only_C/dataframe_13.csv  \n",
            "  inflating: content/spectra_anomaly_2_only_C/dataframe_7.csv  \n",
            "  inflating: content/spectra_anomaly_2_only_C/dataframe_34.csv  \n",
            "  inflating: content/spectra_anomaly_2_only_C/dataframe_37.csv  \n",
            "  inflating: content/spectra_anomaly_2_only_C/dataframe_32.csv  \n",
            "  inflating: content/spectra_anomaly_2_only_C/dataframe_5.csv  \n",
            "  inflating: content/spectra_anomaly_2_only_C/dataframe_15.csv  \n",
            "  inflating: content/spectra_anomaly_2_only_C/dataframe_4.csv  \n",
            "  inflating: content/spectra_anomaly_2_only_C/dataframe_35.csv  \n",
            "  inflating: content/spectra_anomaly_2_only_C/dataframe_23.csv  \n",
            "  inflating: content/spectra_anomaly_2_only_C/dataframe_22.csv  \n",
            "  inflating: content/spectra_anomaly_2_only_C/dataframe_9.csv  \n",
            "  inflating: content/spectra_anomaly_2_only_C/dataframe_24.csv  \n",
            "  inflating: content/spectra_anomaly_2_only_C/dataframe_45.csv  \n",
            "  inflating: content/spectra_anomaly_2_only_C/dataframe_27.csv  \n",
            "  inflating: content/spectra_anomaly_2_only_C/dataframe_29.csv  \n",
            "  inflating: content/spectra_anomaly_2_only_C/dataframe_40.csv  \n",
            "  inflating: content/spectra_anomaly_2_only_C/dataframe_0.csv  \n",
            "Archive:  /content/spectra_anomaly_only_C.zip\n",
            "   creating: content/spectra_anomaly_only_C/\n",
            "  inflating: content/spectra_anomaly_only_C/dataframe_43.csv  \n",
            "  inflating: content/spectra_anomaly_only_C/dataframe_26.csv  \n",
            "  inflating: content/spectra_anomaly_only_C/dataframe_20.csv  \n",
            "  inflating: content/spectra_anomaly_only_C/dataframe_31.csv  \n",
            "  inflating: content/spectra_anomaly_only_C/dataframe_42.csv  \n",
            "  inflating: content/spectra_anomaly_only_C/dataframe_11.csv  \n",
            "  inflating: content/spectra_anomaly_only_C/dataframe_39.csv  \n",
            "  inflating: content/spectra_anomaly_only_C/dataframe_3.csv  \n",
            "  inflating: content/spectra_anomaly_only_C/dataframe_25.csv  \n",
            "  inflating: content/spectra_anomaly_only_C/dataframe_18.csv  \n",
            "  inflating: content/spectra_anomaly_only_C/dataframe_38.csv  \n",
            "  inflating: content/spectra_anomaly_only_C/dataframe_19.csv  \n",
            "  inflating: content/spectra_anomaly_only_C/dataframe_33.csv  \n",
            "  inflating: content/spectra_anomaly_only_C/dataframe_2.csv  \n",
            "  inflating: content/spectra_anomaly_only_C/dataframe_10.csv  \n",
            "  inflating: content/spectra_anomaly_only_C/dataframe_30.csv  \n",
            "  inflating: content/spectra_anomaly_only_C/dataframe_44.csv  \n",
            "  inflating: content/spectra_anomaly_only_C/dataframe_1.csv  \n",
            "  inflating: content/spectra_anomaly_only_C/dataframe_41.csv  \n",
            "  inflating: content/spectra_anomaly_only_C/dataframe_16.csv  \n",
            "  inflating: content/spectra_anomaly_only_C/dataframe_12.csv  \n",
            "  inflating: content/spectra_anomaly_only_C/dataframe_46.csv  \n",
            "  inflating: content/spectra_anomaly_only_C/dataframe_36.csv  \n",
            "  inflating: content/spectra_anomaly_only_C/dataframe_6.csv  \n",
            "  inflating: content/spectra_anomaly_only_C/dataframe_8.csv  \n",
            "  inflating: content/spectra_anomaly_only_C/dataframe_14.csv  \n",
            "  inflating: content/spectra_anomaly_only_C/dataframe_28.csv  \n",
            "  inflating: content/spectra_anomaly_only_C/dataframe_21.csv  \n",
            "  inflating: content/spectra_anomaly_only_C/dataframe_17.csv  \n",
            "  inflating: content/spectra_anomaly_only_C/dataframe_13.csv  \n",
            "  inflating: content/spectra_anomaly_only_C/dataframe_7.csv  \n",
            "  inflating: content/spectra_anomaly_only_C/dataframe_34.csv  \n",
            "  inflating: content/spectra_anomaly_only_C/dataframe_37.csv  \n",
            "  inflating: content/spectra_anomaly_only_C/dataframe_32.csv  \n",
            "  inflating: content/spectra_anomaly_only_C/dataframe_5.csv  \n",
            "  inflating: content/spectra_anomaly_only_C/dataframe_15.csv  \n",
            "  inflating: content/spectra_anomaly_only_C/dataframe_4.csv  \n",
            "  inflating: content/spectra_anomaly_only_C/dataframe_35.csv  \n",
            "  inflating: content/spectra_anomaly_only_C/dataframe_23.csv  \n",
            "  inflating: content/spectra_anomaly_only_C/dataframe_22.csv  \n",
            "  inflating: content/spectra_anomaly_only_C/dataframe_9.csv  \n",
            "  inflating: content/spectra_anomaly_only_C/dataframe_24.csv  \n",
            "  inflating: content/spectra_anomaly_only_C/dataframe_45.csv  \n",
            "  inflating: content/spectra_anomaly_only_C/dataframe_27.csv  \n",
            "  inflating: content/spectra_anomaly_only_C/dataframe_29.csv  \n",
            "  inflating: content/spectra_anomaly_only_C/dataframe_40.csv  \n",
            "  inflating: content/spectra_anomaly_only_C/dataframe_0.csv  \n"
          ]
        }
      ],
      "source": [
        "!unzip /content/spectra_without_anomaly_only_C.zip\n",
        "!unzip /content/spectra_anomaly_2_only_C.zip\n",
        "!unzip /content/spectra_anomaly_only_C.zip"
      ]
    },
    {
      "cell_type": "code",
      "execution_count": null,
      "metadata": {
        "id": "mNydC9sUZjev"
      },
      "outputs": [],
      "source": [
        "path_to_data = '/content/content/spectra_anomaly_2_only_C'\n",
        "all_files=[]\n",
        "import os\n",
        "for root, dirs, files in os.walk(path_to_data):\n",
        "    for file in files:\n",
        "        if file.endswith(\".csv\"):\n",
        "             all_files.append(os.path.join(root, file))\n",
        "list1 = [pd.read_csv(file,\n",
        "                          sep=',',\n",
        "                          parse_dates=True) for file in all_files]\n",
        "list10 = []\n",
        "list11 = []\n",
        "\n",
        "for dataset in list1:\n",
        "    dataset_copy1 = dataset.copy()\n",
        "    dataset_copy1['anomaly1'] = 0\n",
        "    list11.append(dataset_copy1)\n",
        "\n",
        "    dataset_copy0 = dataset.copy()\n",
        "    dataset_copy0['anomaly0'] = 1\n",
        "    list10.append(dataset_copy0)"
      ]
    },
    {
      "cell_type": "code",
      "execution_count": null,
      "metadata": {
        "id": "TvLeVomvgY6t"
      },
      "outputs": [],
      "source": [
        "path_to_data = '/content/content/spectra_anomaly_only_C'\n",
        "all_files=[]\n",
        "\n",
        "for root, dirs, files in os.walk(path_to_data):\n",
        "    for file in files:\n",
        "        if file.endswith(\".csv\"):\n",
        "             all_files.append(os.path.join(root, file))\n",
        "list2 = [pd.read_csv(file,\n",
        "                          sep=',',\n",
        "                          parse_dates=True) for file in all_files]\n",
        "list20 = []\n",
        "list21 = []\n",
        "\n",
        "for dataset in list2:\n",
        "    dataset_copy1 = dataset.copy()\n",
        "    dataset_copy1['anomaly1'] = 1\n",
        "    list21.append(dataset_copy1)\n",
        "\n",
        "    dataset_copy0 = dataset.copy()\n",
        "    dataset_copy0['anomaly0'] = 1\n",
        "    list20.append(dataset_copy0)"
      ]
    },
    {
      "cell_type": "code",
      "execution_count": null,
      "metadata": {
        "id": "Aa_m4OkVZtFt"
      },
      "outputs": [],
      "source": [
        "path_to_data = '/content/content/spectra_without_anomaly_only_C'\n",
        "all_files=[]\n",
        "\n",
        "for root, dirs, files in os.walk(path_to_data):\n",
        "    for file in files:\n",
        "        if file.endswith(\".csv\"):\n",
        "             all_files.append(os.path.join(root, file))\n",
        "list0 = [pd.read_csv(file,\n",
        "                          sep=',',\n",
        "                          parse_dates=True) for file in all_files]\n",
        "\n",
        "list00 = []\n",
        "list01 = []\n",
        "\n",
        "for dataset in list0:\n",
        "    dataset_copy1 = dataset.copy()\n",
        "    dataset_copy1['anomaly1'] = 0\n",
        "    list01.append(dataset_copy1)\n",
        "\n",
        "    dataset_copy0 = dataset.copy()\n",
        "    dataset_copy0['anomaly0'] = 0\n",
        "    list00.append(dataset_copy0)\n"
      ]
    },
    {
      "cell_type": "code",
      "source": [
        "len(list10)"
      ],
      "metadata": {
        "colab": {
          "base_uri": "https://localhost:8080/"
        },
        "id": "XPDWAA_dO24i",
        "outputId": "ca92153e-f150-4878-b382-095549964ebc"
      },
      "execution_count": null,
      "outputs": [
        {
          "output_type": "execute_result",
          "data": {
            "text/plain": [
              "47"
            ]
          },
          "metadata": {},
          "execution_count": 71
        }
      ]
    },
    {
      "cell_type": "code",
      "execution_count": null,
      "metadata": {
        "id": "LhojtNU7Qhk6"
      },
      "outputs": [],
      "source": [
        "list_test00 = list00[20:101]\n",
        "list_test01 = list01[20:101]\n",
        "list_test10 = list10[10:45]\n",
        "list_test11 = list11[10:45]\n",
        "list_test20 = list20[10:45]\n",
        "list_test21 = list21[10:45]"
      ]
    },
    {
      "cell_type": "code",
      "source": [
        "print(len(list00))"
      ],
      "metadata": {
        "colab": {
          "base_uri": "https://localhost:8080/"
        },
        "id": "ikUohPgrPDvF",
        "outputId": "a82a2fb5-0763-4cad-d02c-cab7e33d25d5"
      },
      "execution_count": null,
      "outputs": [
        {
          "output_type": "stream",
          "name": "stdout",
          "text": [
            "90\n"
          ]
        }
      ]
    },
    {
      "cell_type": "code",
      "execution_count": null,
      "metadata": {
        "id": "FyD1ZiaiSDEO"
      },
      "outputs": [],
      "source": [
        "list_of_df_test0 = random.sample(list_test00 + list_test10 + list_test20, len(list_test00) + len(list_test10) + len(list_test20))\n",
        "list_of_df_test1 = random.sample(list_test01 + list_test11 + list_test21, len(list_test01) + len(list_test11) + len(list_test21))"
      ]
    },
    {
      "cell_type": "code",
      "execution_count": null,
      "metadata": {
        "id": "XTQftdaagj8p"
      },
      "outputs": [],
      "source": [
        "list00 = list00[:21]\n",
        "list01 = list01[:21]\n",
        "list10 = list10[:7]\n",
        "list11 = list11[:7]\n",
        "list20 = list20[:7]\n",
        "list21 = list21[:7]"
      ]
    },
    {
      "cell_type": "code",
      "execution_count": null,
      "metadata": {
        "id": "sDd_UKmUZ5Om"
      },
      "outputs": [],
      "source": [
        "list_of_df0 = random.sample(list00 + list10 + list20, len(list00) + len(list10) + len(list20))\n",
        "list_of_df1 = random.sample(list01 + list11 + list21, len(list01) + len(list11) + len(list21))"
      ]
    },
    {
      "cell_type": "code",
      "execution_count": null,
      "metadata": {
        "id": "ZyMVbFK_5HYW"
      },
      "outputs": [],
      "source": [
        "list_of_df0 = list_of_df0[:20]\n",
        "list_of_df1 = list_of_df1[:20]"
      ]
    },
    {
      "cell_type": "code",
      "source": [
        "len(list_of_df_test0)"
      ],
      "metadata": {
        "colab": {
          "base_uri": "https://localhost:8080/"
        },
        "collapsed": true,
        "id": "dhqfepFpxWEr",
        "outputId": "f1c15b33-a1db-4d2a-dfbf-3328ea653bb4"
      },
      "execution_count": null,
      "outputs": [
        {
          "output_type": "execute_result",
          "data": {
            "text/plain": [
              "140"
            ]
          },
          "metadata": {},
          "execution_count": 80
        }
      ]
    },
    {
      "cell_type": "markdown",
      "metadata": {
        "id": "uVSkzg3yGG9p"
      },
      "source": [
        "### Data description"
      ]
    },
    {
      "cell_type": "markdown",
      "metadata": {
        "id": "63ER0h-PGG9r"
      },
      "source": [
        "## Method"
      ]
    },
    {
      "cell_type": "markdown",
      "metadata": {
        "id": "a1paqtfVGG9s"
      },
      "source": [
        "### Method initialization"
      ]
    },
    {
      "cell_type": "code",
      "execution_count": null,
      "metadata": {
        "id": "xIOCKP6NGG9s"
      },
      "outputs": [],
      "source": [
        "from algorithms.LSTM_VAE import LSTM_VAE\n",
        "from sklearn.preprocessing import StandardScaler\n",
        "from tqdm import tqdm\n",
        "import numpy as np"
      ]
    },
    {
      "cell_type": "code",
      "execution_count": null,
      "metadata": {
        "id": "Qxox5iBrGG9s"
      },
      "outputs": [],
      "source": [
        "# hyperparameters selection\n",
        "N_STEPS = 4\n",
        "Q = 0.9 # quantile for upper control limit (UCL) selection"
      ]
    },
    {
      "cell_type": "code",
      "execution_count": null,
      "metadata": {
        "id": "n8iHlY9jGG9t"
      },
      "outputs": [],
      "source": [
        "# model defining\n",
        "model = LSTM_VAE()"
      ]
    },
    {
      "cell_type": "code",
      "execution_count": null,
      "metadata": {
        "id": "en0BfKaYGG9t"
      },
      "outputs": [],
      "source": [
        "# Generated training sequences for use in the model.\n",
        "def create_sequences(values, time_steps):\n",
        "    output = []\n",
        "    for i in range(len(values) - time_steps + 1):\n",
        "        output.append(values[i : (i + time_steps)])\n",
        "    return np.stack(output)"
      ]
    },
    {
      "cell_type": "code",
      "execution_count": null,
      "metadata": {
        "id": "daPwrrwMHOiV"
      },
      "outputs": [],
      "source": [
        "list_of_df[1]"
      ]
    },
    {
      "cell_type": "code",
      "execution_count": null,
      "metadata": {
        "colab": {
          "base_uri": "https://localhost:8080/"
        },
        "id": "77MZcOAKmSkb",
        "outputId": "df0f787e-3ede-4d45-e68d-e20fcfe88876"
      },
      "outputs": [
        {
          "output_type": "execute_result",
          "data": {
            "text/plain": [
              "20"
            ]
          },
          "metadata": {},
          "execution_count": 33
        }
      ],
      "source": [
        "len(list_of_df0)"
      ]
    },
    {
      "cell_type": "markdown",
      "metadata": {
        "id": "NVZ1MGjvGG9t"
      },
      "source": [
        "### Method fitting and applying"
      ]
    },
    {
      "cell_type": "code",
      "execution_count": null,
      "metadata": {
        "id": "YjRJl3y7aqpZ"
      },
      "outputs": [],
      "source": [
        "model0 = LSTM_VAE()\n",
        "list_of_df = list_of_df0"
      ]
    },
    {
      "cell_type": "code",
      "execution_count": null,
      "metadata": {
        "colab": {
          "base_uri": "https://localhost:8080/"
        },
        "id": "GNJ5NyJBGG9t",
        "outputId": "4f124b65-624a-4daf-b597-c3a0d34f3c95"
      },
      "outputs": [
        {
          "output_type": "stream",
          "name": "stderr",
          "text": [
            "1st loop: 100%|██████████| 20/20 [1:31:48<00:00, 275.44s/it]"
          ]
        },
        {
          "output_type": "stream",
          "name": "stdout",
          "text": [
            "CPU times: user 1h 59min 30s, sys: 2min 9s, total: 2h 1min 40s\n",
            "Wall time: 1h 31min 48s\n"
          ]
        },
        {
          "output_type": "stream",
          "name": "stderr",
          "text": [
            "\n"
          ]
        }
      ],
      "source": [
        "%%time\n",
        "# inference\n",
        "predicted_outlier0, predicted_cp0 = [], []\n",
        "for df in tqdm(list_of_df, desc='1st loop'):\n",
        "    X_train0 = df.drop(['anomaly0'], axis=1)\n",
        "\n",
        "    # scaler init and fitting\n",
        "    StSc = StandardScaler()\n",
        "    StSc.fit(X_train0)\n",
        "\n",
        "    # convert into input/output\n",
        "    X0 = create_sequences(StSc.transform(X_train0), N_STEPS)\n",
        "\n",
        "    # model fitting\n",
        "    model0.fit(X0)\n",
        "\n",
        "    # results predicting\n",
        "    residuals0 = pd.Series(np.sum(np.mean(np.abs(X0 - model0.predict(X0)), axis=1), axis=1))\n",
        "    UCL0 = residuals0.quantile(Q) * 3/2\n",
        "\n",
        "    # results predicting\n",
        "    X0 = create_sequences(StSc.transform(df.drop(['anomaly0',], axis=1)), N_STEPS)\n",
        "    cnn_residuals0 = pd.Series(np.sum(np.mean(np.abs(X0 - model0.predict(X0)), axis=1), axis=1))\n",
        "\n",
        "    # data i is an anomaly if samples [(i - timesteps + 1) to (i)] are anomalies\n",
        "    anomalous_data0 = cnn_residuals0 > UCL0\n",
        "    anomalous_data_indices0 = []\n",
        "    for data_idx in range(N_STEPS - 1, len(X0) - N_STEPS + 1):\n",
        "        if np.all(anomalous_data0[data_idx - N_STEPS + 1 : data_idx]):\n",
        "            anomalous_data_indices0.append(data_idx)\n",
        "\n",
        "    prediction0 = pd.Series(data=0, index=df.index)\n",
        "    prediction0.iloc[anomalous_data_indices0] = 1\n",
        "\n",
        "    # predicted outliers saving\n",
        "    predicted_outlier0.append(prediction0)\n",
        "\n",
        "    # predicted CPs saving\n",
        "    prediction_cp0 = abs(prediction0.diff())\n",
        "    prediction_cp0[0] = prediction0[0]\n",
        "    predicted_cp0.append(prediction_cp0)"
      ]
    },
    {
      "cell_type": "code",
      "execution_count": null,
      "metadata": {
        "colab": {
          "base_uri": "https://localhost:8080/"
        },
        "collapsed": true,
        "id": "tQZmrRcqcFYb",
        "outputId": "76a9b870-c5df-4931-b630-72ee17868435"
      },
      "outputs": [
        {
          "output_type": "execute_result",
          "data": {
            "text/plain": [
              "[0       0.0\n",
              " 1       0.0\n",
              " 2       0.0\n",
              " 3       0.0\n",
              " 4       0.0\n",
              "        ... \n",
              " 2043    0.0\n",
              " 2044    0.0\n",
              " 2045    0.0\n",
              " 2046    0.0\n",
              " 2047    0.0\n",
              " Length: 2048, dtype: float64,\n",
              " 0       0.0\n",
              " 1       0.0\n",
              " 2       0.0\n",
              " 3       0.0\n",
              " 4       0.0\n",
              "        ... \n",
              " 2043    0.0\n",
              " 2044    0.0\n",
              " 2045    0.0\n",
              " 2046    0.0\n",
              " 2047    0.0\n",
              " Length: 2048, dtype: float64,\n",
              " 0       0.0\n",
              " 1       0.0\n",
              " 2       0.0\n",
              " 3       0.0\n",
              " 4       0.0\n",
              "        ... \n",
              " 2043    0.0\n",
              " 2044    0.0\n",
              " 2045    0.0\n",
              " 2046    0.0\n",
              " 2047    0.0\n",
              " Length: 2048, dtype: float64,\n",
              " 0       0.0\n",
              " 1       0.0\n",
              " 2       0.0\n",
              " 3       0.0\n",
              " 4       0.0\n",
              "        ... \n",
              " 2043    0.0\n",
              " 2044    0.0\n",
              " 2045    0.0\n",
              " 2046    0.0\n",
              " 2047    0.0\n",
              " Length: 2048, dtype: float64,\n",
              " 0       0.0\n",
              " 1       0.0\n",
              " 2       0.0\n",
              " 3       0.0\n",
              " 4       0.0\n",
              "        ... \n",
              " 2043    0.0\n",
              " 2044    0.0\n",
              " 2045    0.0\n",
              " 2046    0.0\n",
              " 2047    0.0\n",
              " Length: 2048, dtype: float64,\n",
              " 0       0.0\n",
              " 1       0.0\n",
              " 2       0.0\n",
              " 3       0.0\n",
              " 4       0.0\n",
              "        ... \n",
              " 2043    0.0\n",
              " 2044    0.0\n",
              " 2045    0.0\n",
              " 2046    0.0\n",
              " 2047    0.0\n",
              " Length: 2048, dtype: float64,\n",
              " 0       0.0\n",
              " 1       0.0\n",
              " 2       0.0\n",
              " 3       0.0\n",
              " 4       0.0\n",
              "        ... \n",
              " 2043    0.0\n",
              " 2044    0.0\n",
              " 2045    0.0\n",
              " 2046    0.0\n",
              " 2047    0.0\n",
              " Length: 2048, dtype: float64,\n",
              " 0       0.0\n",
              " 1       0.0\n",
              " 2       0.0\n",
              " 3       0.0\n",
              " 4       0.0\n",
              "        ... \n",
              " 2043    0.0\n",
              " 2044    0.0\n",
              " 2045    0.0\n",
              " 2046    0.0\n",
              " 2047    0.0\n",
              " Length: 2048, dtype: float64,\n",
              " 0       0.0\n",
              " 1       0.0\n",
              " 2       0.0\n",
              " 3       0.0\n",
              " 4       0.0\n",
              "        ... \n",
              " 2043    0.0\n",
              " 2044    0.0\n",
              " 2045    0.0\n",
              " 2046    0.0\n",
              " 2047    0.0\n",
              " Length: 2048, dtype: float64,\n",
              " 0       0.0\n",
              " 1       0.0\n",
              " 2       0.0\n",
              " 3       0.0\n",
              " 4       0.0\n",
              "        ... \n",
              " 2043    0.0\n",
              " 2044    0.0\n",
              " 2045    0.0\n",
              " 2046    0.0\n",
              " 2047    0.0\n",
              " Length: 2048, dtype: float64,\n",
              " 0       0.0\n",
              " 1       0.0\n",
              " 2       0.0\n",
              " 3       0.0\n",
              " 4       0.0\n",
              "        ... \n",
              " 2043    0.0\n",
              " 2044    0.0\n",
              " 2045    0.0\n",
              " 2046    0.0\n",
              " 2047    0.0\n",
              " Length: 2048, dtype: float64,\n",
              " 0       0.0\n",
              " 1       0.0\n",
              " 2       0.0\n",
              " 3       0.0\n",
              " 4       0.0\n",
              "        ... \n",
              " 2043    0.0\n",
              " 2044    0.0\n",
              " 2045    0.0\n",
              " 2046    0.0\n",
              " 2047    0.0\n",
              " Length: 2048, dtype: float64,\n",
              " 0       0.0\n",
              " 1       0.0\n",
              " 2       0.0\n",
              " 3       0.0\n",
              " 4       0.0\n",
              "        ... \n",
              " 2043    0.0\n",
              " 2044    0.0\n",
              " 2045    0.0\n",
              " 2046    0.0\n",
              " 2047    0.0\n",
              " Length: 2048, dtype: float64,\n",
              " 0       0.0\n",
              " 1       0.0\n",
              " 2       0.0\n",
              " 3       0.0\n",
              " 4       0.0\n",
              "        ... \n",
              " 2043    0.0\n",
              " 2044    0.0\n",
              " 2045    0.0\n",
              " 2046    0.0\n",
              " 2047    0.0\n",
              " Length: 2048, dtype: float64,\n",
              " 0       0.0\n",
              " 1       0.0\n",
              " 2       0.0\n",
              " 3       0.0\n",
              " 4       0.0\n",
              "        ... \n",
              " 2043    0.0\n",
              " 2044    0.0\n",
              " 2045    0.0\n",
              " 2046    0.0\n",
              " 2047    0.0\n",
              " Length: 2048, dtype: float64,\n",
              " 0       0.0\n",
              " 1       0.0\n",
              " 2       0.0\n",
              " 3       0.0\n",
              " 4       0.0\n",
              "        ... \n",
              " 2043    0.0\n",
              " 2044    0.0\n",
              " 2045    0.0\n",
              " 2046    0.0\n",
              " 2047    0.0\n",
              " Length: 2048, dtype: float64,\n",
              " 0       0.0\n",
              " 1       0.0\n",
              " 2       0.0\n",
              " 3       0.0\n",
              " 4       0.0\n",
              "        ... \n",
              " 2043    0.0\n",
              " 2044    0.0\n",
              " 2045    0.0\n",
              " 2046    0.0\n",
              " 2047    0.0\n",
              " Length: 2048, dtype: float64,\n",
              " 0       0.0\n",
              " 1       0.0\n",
              " 2       0.0\n",
              " 3       0.0\n",
              " 4       0.0\n",
              "        ... \n",
              " 2043    0.0\n",
              " 2044    0.0\n",
              " 2045    0.0\n",
              " 2046    0.0\n",
              " 2047    0.0\n",
              " Length: 2048, dtype: float64,\n",
              " 0       0.0\n",
              " 1       0.0\n",
              " 2       0.0\n",
              " 3       0.0\n",
              " 4       0.0\n",
              "        ... \n",
              " 2043    0.0\n",
              " 2044    0.0\n",
              " 2045    0.0\n",
              " 2046    0.0\n",
              " 2047    0.0\n",
              " Length: 2048, dtype: float64,\n",
              " 0       0.0\n",
              " 1       0.0\n",
              " 2       0.0\n",
              " 3       0.0\n",
              " 4       0.0\n",
              "        ... \n",
              " 2043    0.0\n",
              " 2044    0.0\n",
              " 2045    0.0\n",
              " 2046    0.0\n",
              " 2047    0.0\n",
              " Length: 2048, dtype: float64]"
            ]
          },
          "metadata": {},
          "execution_count": 33
        }
      ],
      "source": [
        "predicted_cp0"
      ]
    },
    {
      "cell_type": "code",
      "execution_count": null,
      "metadata": {
        "colab": {
          "base_uri": "https://localhost:8080/"
        },
        "id": "BwPRdHo15XZl",
        "outputId": "838aa37d-a34e-4c76-e3d6-5680dc2dc722"
      },
      "outputs": [
        {
          "output_type": "execute_result",
          "data": {
            "text/plain": [
              "[22, 20, 6, 30, 24, 18, 18, 16, 14, 28, 16, 20, 32, 8, 28, 6, 14, 8, 8, 20]"
            ]
          },
          "metadata": {},
          "execution_count": 34
        }
      ],
      "source": [
        "sumones = []\n",
        "for arr in predicted_cp0:\n",
        "        zeros_count = np.count_nonzero(arr <= 0)\n",
        "        ones_count = np.count_nonzero(arr >= 1)\n",
        "        sumones.append(ones_count)\n",
        "sumones"
      ]
    },
    {
      "cell_type": "code",
      "execution_count": null,
      "metadata": {
        "id": "ACgxYsoP6SuM"
      },
      "outputs": [],
      "source": [
        "def process_cp(predicted_outlier):\n",
        "    processed_outlier = []\n",
        "\n",
        "    for arr in predicted_outlier:\n",
        "        zeros_count = np.count_nonzero(arr <= 0)\n",
        "        ones_count = np.count_nonzero(arr >= 1)\n",
        "\n",
        "        if ones_count < 16:\n",
        "            processed_outlier.append(np.ones_like(arr).astype(int))\n",
        "        #else:\n",
        "        elif zeros_count > 150:\n",
        "            processed_outlier.append(np.zeros_like(arr).astype(int))\n",
        "        #else:\n",
        "        #    processed_outlier.append(arr.astype(int))\n",
        "    #processed_outlier = processed_outlier[0]\n",
        "\n",
        "    return processed_outlier"
      ]
    },
    {
      "cell_type": "code",
      "execution_count": null,
      "metadata": {
        "colab": {
          "base_uri": "https://localhost:8080/"
        },
        "id": "sw3dID9TLuOV",
        "outputId": "c5cd87e9-e26c-46d7-a7a0-75e9de1c5b21"
      },
      "outputs": [
        {
          "output_type": "execute_result",
          "data": {
            "text/plain": [
              "0.65"
            ]
          },
          "metadata": {},
          "execution_count": 42
        }
      ],
      "source": [
        "true_outlier0 = [df.anomaly0 for df in list_of_df0]\n",
        "accuracy_score(true_outlier0, process_cp(predicted_cp0))"
      ]
    },
    {
      "cell_type": "code",
      "execution_count": null,
      "metadata": {
        "id": "bmxkncvESbRr",
        "collapsed": true
      },
      "outputs": [],
      "source": [
        "predicted_outlier_test, predicted_cp_test = [], []\n",
        "for df in list_of_df_test0:\n",
        "    X_test = df.drop(['anomaly0'], axis=1)\n",
        "\n",
        "    # scaler init and fitting\n",
        "    StSc = StandardScaler()\n",
        "    StSc.fit(X_test)\n",
        "\n",
        "    # convert into input/output\n",
        "    X = create_sequences(StSc.transform(X_test), N_STEPS)\n",
        "\n",
        "    # model defining and fitting\n",
        "    #history01, model01 = arch(X0)\n",
        "\n",
        "    # results predicting\n",
        "    residuals = pd.Series(np.sum(np.mean(np.abs(X - model0.predict(X)), axis=1), axis=1))\n",
        "    UCL = residuals.quantile(Q)\n",
        "\n",
        "    # results predicting\n",
        "    X = create_sequences(StSc.transform(df.drop(['anomaly0'], axis=1)), N_STEPS)\n",
        "    cnn_residuals = pd.Series(np.sum(np.mean(np.abs(X - model0.predict(X)), axis=1), axis=1))\n",
        "\n",
        "    # data i is an anomaly if samples [(i - timesteps + 1) to (i)] are anomalies\n",
        "    anomalous_data = cnn_residuals > (3/2 * UCL)\n",
        "    anomalous_data_indices = []\n",
        "    for data_idx in range(N_STEPS - 1, len(X) - N_STEPS + 1):\n",
        "        if np.all(anomalous_data[data_idx - N_STEPS + 1 : data_idx]):\n",
        "            anomalous_data_indices.append(data_idx)\n",
        "\n",
        "    prediction = pd.Series(data=0, index=df.index)\n",
        "    prediction.iloc[anomalous_data_indices] = 1\n",
        "\n",
        "    # predicted outliers saving\n",
        "    predicted_outlier_test.append(prediction)\n",
        "\n",
        "    # predicted CPs saving\n",
        "    prediction_cp = abs(prediction.diff())\n",
        "    prediction_cp[0] = prediction[0]\n",
        "    predicted_cp_test.append(prediction_cp)"
      ]
    },
    {
      "cell_type": "code",
      "execution_count": null,
      "metadata": {
        "colab": {
          "base_uri": "https://localhost:8080/"
        },
        "id": "9aZNqz5xd5NP",
        "outputId": "dc052063-e96a-4aa1-fd4a-590a832754e6"
      },
      "outputs": [
        {
          "output_type": "execute_result",
          "data": {
            "text/plain": [
              "[18,\n",
              " 24,\n",
              " 22,\n",
              " 10,\n",
              " 26,\n",
              " 12,\n",
              " 6,\n",
              " 12,\n",
              " 8,\n",
              " 6,\n",
              " 26,\n",
              " 18,\n",
              " 10,\n",
              " 14,\n",
              " 18,\n",
              " 12,\n",
              " 10,\n",
              " 14,\n",
              " 14,\n",
              " 22,\n",
              " 14,\n",
              " 2,\n",
              " 10,\n",
              " 22,\n",
              " 16,\n",
              " 10,\n",
              " 14,\n",
              " 12,\n",
              " 14,\n",
              " 4,\n",
              " 12,\n",
              " 12,\n",
              " 18,\n",
              " 14,\n",
              " 6,\n",
              " 16,\n",
              " 16,\n",
              " 20,\n",
              " 8,\n",
              " 24,\n",
              " 10,\n",
              " 16,\n",
              " 4,\n",
              " 22,\n",
              " 14,\n",
              " 10,\n",
              " 16,\n",
              " 2,\n",
              " 16,\n",
              " 14,\n",
              " 2,\n",
              " 14,\n",
              " 20,\n",
              " 18,\n",
              " 20,\n",
              " 22,\n",
              " 20,\n",
              " 14,\n",
              " 24,\n",
              " 4,\n",
              " 26,\n",
              " 10,\n",
              " 18,\n",
              " 26,\n",
              " 14,\n",
              " 16,\n",
              " 18,\n",
              " 22,\n",
              " 8,\n",
              " 10,\n",
              " 18,\n",
              " 14,\n",
              " 2,\n",
              " 6,\n",
              " 16,\n",
              " 4,\n",
              " 30,\n",
              " 18,\n",
              " 8,\n",
              " 22,\n",
              " 14,\n",
              " 10,\n",
              " 14,\n",
              " 10,\n",
              " 10,\n",
              " 16,\n",
              " 10,\n",
              " 8,\n",
              " 2,\n",
              " 10,\n",
              " 18,\n",
              " 14,\n",
              " 18,\n",
              " 8,\n",
              " 14,\n",
              " 8,\n",
              " 22,\n",
              " 12,\n",
              " 12,\n",
              " 30,\n",
              " 2,\n",
              " 26,\n",
              " 14,\n",
              " 12,\n",
              " 2,\n",
              " 10,\n",
              " 10,\n",
              " 22,\n",
              " 22,\n",
              " 4,\n",
              " 18,\n",
              " 10,\n",
              " 16,\n",
              " 2,\n",
              " 24,\n",
              " 2,\n",
              " 12,\n",
              " 16,\n",
              " 14,\n",
              " 14,\n",
              " 18,\n",
              " 8,\n",
              " 12,\n",
              " 10,\n",
              " 18,\n",
              " 14,\n",
              " 26,\n",
              " 10,\n",
              " 2,\n",
              " 24,\n",
              " 14,\n",
              " 14,\n",
              " 16,\n",
              " 28,\n",
              " 28,\n",
              " 10,\n",
              " 16,\n",
              " 2,\n",
              " 10,\n",
              " 2]"
            ]
          },
          "metadata": {},
          "execution_count": 44
        }
      ],
      "source": [
        "sumones = []\n",
        "for arr in predicted_cp_test:\n",
        "        zeros_count = np.count_nonzero(arr <= 0)\n",
        "        ones_count = np.count_nonzero(arr >= 1)\n",
        "        sumones.append(ones_count)\n",
        "sumones"
      ]
    },
    {
      "cell_type": "code",
      "execution_count": null,
      "metadata": {
        "colab": {
          "base_uri": "https://localhost:8080/"
        },
        "id": "VrnZDjO053X6",
        "outputId": "b07dba5b-2717-431f-85f6-783a4a7ae414"
      },
      "outputs": [
        {
          "output_type": "execute_result",
          "data": {
            "text/plain": [
              "0.6428571428571429"
            ]
          },
          "metadata": {},
          "execution_count": 45
        }
      ],
      "source": [
        "true_outlier_test = [df.anomaly0 for df in list_of_df_test0]\n",
        "accuracy_score(true_outlier_test, process_cp(predicted_cp_test))"
      ]
    },
    {
      "cell_type": "code",
      "source": [
        "from sklearn.metrics import accuracy_score, precision_score, recall_score, f1_score, roc_auc_score, log_loss"
      ],
      "metadata": {
        "id": "eKIkL9yhcuyp"
      },
      "execution_count": null,
      "outputs": []
    },
    {
      "cell_type": "code",
      "execution_count": null,
      "metadata": {
        "colab": {
          "base_uri": "https://localhost:8080/"
        },
        "id": "HBC1dh-0_pyd",
        "outputId": "87a89806-6e11-4533-dabe-60af71ac198f"
      },
      "outputs": [
        {
          "output_type": "stream",
          "name": "stdout",
          "text": [
            "Accuracy: 0.6428571428571429\n",
            "Precision: 0.6190476190476191\n",
            "Recall: 0.7428571428571429\n",
            "F1 Score: 0.6753246753246753\n",
            "ROC-AUC Score: 0.6428571428571429\n"
          ]
        }
      ],
      "source": [
        "from sklearn.metrics import accuracy_score, precision_score, recall_score, f1_score, roc_auc_score, log_loss\n",
        "\n",
        "predictpic = []\n",
        "truetestpic = []\n",
        "for i in process_cp(predicted_cp_test):\n",
        "    predictpic.append(i[0])\n",
        "\n",
        "for i in true_outlier_test:\n",
        "    truetestpic.append(i[0])\n",
        "predictpic = pd.DataFrame(predictpic)\n",
        "truetestpic = pd.DataFrame(truetestpic)\n",
        "\n",
        "y_true = truetestpic\n",
        "y_pred = predictpic\n",
        "\n",
        "accuracy = accuracy_score(y_true, y_pred)\n",
        "precision = precision_score(y_true, y_pred)\n",
        "recall = recall_score(y_true, y_pred)\n",
        "f1 = f1_score(y_true, y_pred)\n",
        "roc_auc = roc_auc_score(y_true, y_pred)\n",
        "\n",
        "print(f'Accuracy: {accuracy}')\n",
        "print(f'Precision: {precision}')\n",
        "print(f'Recall: {recall}')\n",
        "print(f'F1 Score: {f1}')\n",
        "print(f'ROC-AUC Score: {roc_auc}')"
      ]
    },
    {
      "cell_type": "code",
      "execution_count": null,
      "metadata": {
        "id": "2qIaFqCqeUzt"
      },
      "outputs": [],
      "source": [
        "predicted_cp = np.array(predicted_cp0)"
      ]
    },
    {
      "cell_type": "code",
      "execution_count": null,
      "metadata": {
        "colab": {
          "base_uri": "https://localhost:8080/"
        },
        "id": "WPNzCLgseMKT",
        "outputId": "5943e920-a72c-484a-d0e2-39fd5c17b2f3"
      },
      "outputs": [
        {
          "output_type": "stream",
          "name": "stdout",
          "text": [
            "Train on 20 samples\n",
            "Epoch 1/100\n",
            "20/20 [==============================] - 3s 133ms/sample - loss: 0.6932 - accuracy: 0.5003\n",
            "Epoch 2/100\n",
            "20/20 [==============================] - 0s 579us/sample - loss: 0.6925 - accuracy: 0.5194\n",
            "Epoch 3/100\n",
            "20/20 [==============================] - 0s 571us/sample - loss: 0.6916 - accuracy: 0.5403\n",
            "Epoch 4/100\n",
            "20/20 [==============================] - 0s 901us/sample - loss: 0.6905 - accuracy: 0.5633\n",
            "Epoch 5/100\n",
            "20/20 [==============================] - 0s 787us/sample - loss: 0.6891 - accuracy: 0.5877\n",
            "Epoch 6/100\n",
            "20/20 [==============================] - 0s 597us/sample - loss: 0.6873 - accuracy: 0.6136\n",
            "Epoch 7/100\n",
            "20/20 [==============================] - 0s 519us/sample - loss: 0.6851 - accuracy: 0.6417\n",
            "Epoch 8/100\n",
            "20/20 [==============================] - 0s 517us/sample - loss: 0.6825 - accuracy: 0.6706\n",
            "Epoch 9/100\n",
            "20/20 [==============================] - 0s 550us/sample - loss: 0.6795 - accuracy: 0.7006\n",
            "Epoch 10/100\n",
            "20/20 [==============================] - 0s 502us/sample - loss: 0.6759 - accuracy: 0.7257\n",
            "Epoch 11/100\n",
            "20/20 [==============================] - 0s 530us/sample - loss: 0.6719 - accuracy: 0.7505\n",
            "Epoch 12/100\n",
            "20/20 [==============================] - 0s 500us/sample - loss: 0.6674 - accuracy: 0.7715\n",
            "Epoch 13/100\n",
            "20/20 [==============================] - 0s 528us/sample - loss: 0.6623 - accuracy: 0.7930\n",
            "Epoch 14/100\n",
            "20/20 [==============================] - 0s 505us/sample - loss: 0.6567 - accuracy: 0.8128\n",
            "Epoch 15/100\n",
            "20/20 [==============================] - 0s 527us/sample - loss: 0.6504 - accuracy: 0.8322\n",
            "Epoch 16/100\n",
            "20/20 [==============================] - 0s 608us/sample - loss: 0.6436 - accuracy: 0.8521\n",
            "Epoch 17/100\n",
            "20/20 [==============================] - 0s 590us/sample - loss: 0.6362 - accuracy: 0.8688\n",
            "Epoch 18/100\n",
            "20/20 [==============================] - 0s 522us/sample - loss: 0.6281 - accuracy: 0.8850\n",
            "Epoch 19/100\n",
            "20/20 [==============================] - 0s 525us/sample - loss: 0.6195 - accuracy: 0.9004\n",
            "Epoch 20/100\n",
            "20/20 [==============================] - 0s 645us/sample - loss: 0.6102 - accuracy: 0.9152\n",
            "Epoch 21/100\n",
            "20/20 [==============================] - 0s 542us/sample - loss: 0.6003 - accuracy: 0.9301\n",
            "Epoch 22/100\n",
            "20/20 [==============================] - 0s 476us/sample - loss: 0.5898 - accuracy: 0.9421\n",
            "Epoch 23/100\n",
            "20/20 [==============================] - 0s 498us/sample - loss: 0.5787 - accuracy: 0.9521\n",
            "Epoch 24/100\n",
            "20/20 [==============================] - 0s 500us/sample - loss: 0.5671 - accuracy: 0.9610\n",
            "Epoch 25/100\n",
            "20/20 [==============================] - 0s 508us/sample - loss: 0.5551 - accuracy: 0.9697\n",
            "Epoch 26/100\n",
            "20/20 [==============================] - 0s 529us/sample - loss: 0.5425 - accuracy: 0.9767\n",
            "Epoch 27/100\n",
            "20/20 [==============================] - 0s 555us/sample - loss: 0.5296 - accuracy: 0.9830\n",
            "Epoch 28/100\n",
            "20/20 [==============================] - 0s 859us/sample - loss: 0.5164 - accuracy: 0.9879\n",
            "Epoch 29/100\n",
            "20/20 [==============================] - 0s 719us/sample - loss: 0.5029 - accuracy: 0.9913\n",
            "Epoch 30/100\n",
            "20/20 [==============================] - 0s 545us/sample - loss: 0.4892 - accuracy: 0.9942\n",
            "Epoch 31/100\n",
            "20/20 [==============================] - 0s 724us/sample - loss: 0.4753 - accuracy: 0.9963\n",
            "Epoch 32/100\n",
            "20/20 [==============================] - 0s 586us/sample - loss: 0.4613 - accuracy: 0.9978\n",
            "Epoch 33/100\n",
            "20/20 [==============================] - 0s 545us/sample - loss: 0.4473 - accuracy: 0.9987\n",
            "Epoch 34/100\n",
            "20/20 [==============================] - 0s 523us/sample - loss: 0.4334 - accuracy: 0.9994\n",
            "Epoch 35/100\n",
            "20/20 [==============================] - 0s 551us/sample - loss: 0.4196 - accuracy: 0.9998\n",
            "Epoch 36/100\n",
            "20/20 [==============================] - 0s 540us/sample - loss: 0.4060 - accuracy: 0.9999\n",
            "Epoch 37/100\n",
            "20/20 [==============================] - 0s 633us/sample - loss: 0.3926 - accuracy: 1.0000\n",
            "Epoch 38/100\n",
            "20/20 [==============================] - 0s 616us/sample - loss: 0.3794 - accuracy: 1.0000\n",
            "Epoch 39/100\n",
            "20/20 [==============================] - 0s 622us/sample - loss: 0.3666 - accuracy: 1.0000\n",
            "Epoch 40/100\n",
            "20/20 [==============================] - 0s 600us/sample - loss: 0.3541 - accuracy: 1.0000\n",
            "Epoch 41/100\n",
            "20/20 [==============================] - 0s 587us/sample - loss: 0.3420 - accuracy: 1.0000\n",
            "Epoch 42/100\n",
            "20/20 [==============================] - 0s 592us/sample - loss: 0.3303 - accuracy: 1.0000\n",
            "Epoch 43/100\n",
            "20/20 [==============================] - 0s 534us/sample - loss: 0.3189 - accuracy: 1.0000\n",
            "Epoch 44/100\n",
            "20/20 [==============================] - 0s 568us/sample - loss: 0.3079 - accuracy: 1.0000\n",
            "Epoch 45/100\n",
            "20/20 [==============================] - 0s 635us/sample - loss: 0.2973 - accuracy: 1.0000\n",
            "Epoch 46/100\n",
            "20/20 [==============================] - 0s 593us/sample - loss: 0.2871 - accuracy: 1.0000\n",
            "Epoch 47/100\n",
            "20/20 [==============================] - 0s 587us/sample - loss: 0.2772 - accuracy: 1.0000\n",
            "Epoch 48/100\n",
            "20/20 [==============================] - 0s 707us/sample - loss: 0.2677 - accuracy: 1.0000\n",
            "Epoch 49/100\n",
            "20/20 [==============================] - 0s 494us/sample - loss: 0.2585 - accuracy: 1.0000\n",
            "Epoch 50/100\n",
            "20/20 [==============================] - 0s 649us/sample - loss: 0.2496 - accuracy: 1.0000\n",
            "Epoch 51/100\n",
            "20/20 [==============================] - 0s 596us/sample - loss: 0.2411 - accuracy: 1.0000\n",
            "Epoch 52/100\n",
            "20/20 [==============================] - 0s 664us/sample - loss: 0.2329 - accuracy: 1.0000\n",
            "Epoch 53/100\n",
            "20/20 [==============================] - 0s 544us/sample - loss: 0.2249 - accuracy: 1.0000\n",
            "Epoch 54/100\n",
            "20/20 [==============================] - 0s 503us/sample - loss: 0.2173 - accuracy: 1.0000\n",
            "Epoch 55/100\n",
            "20/20 [==============================] - 0s 603us/sample - loss: 0.2099 - accuracy: 1.0000\n",
            "Epoch 56/100\n",
            "20/20 [==============================] - 0s 523us/sample - loss: 0.2027 - accuracy: 1.0000\n",
            "Epoch 57/100\n",
            "20/20 [==============================] - 0s 577us/sample - loss: 0.1958 - accuracy: 1.0000\n",
            "Epoch 58/100\n",
            "20/20 [==============================] - 0s 534us/sample - loss: 0.1891 - accuracy: 1.0000\n",
            "Epoch 59/100\n",
            "20/20 [==============================] - 0s 543us/sample - loss: 0.1827 - accuracy: 1.0000\n",
            "Epoch 60/100\n",
            "20/20 [==============================] - 0s 711us/sample - loss: 0.1765 - accuracy: 1.0000\n",
            "Epoch 61/100\n",
            "20/20 [==============================] - 0s 777us/sample - loss: 0.1704 - accuracy: 1.0000\n",
            "Epoch 62/100\n",
            "20/20 [==============================] - 0s 728us/sample - loss: 0.1646 - accuracy: 1.0000\n",
            "Epoch 63/100\n",
            "20/20 [==============================] - 0s 686us/sample - loss: 0.1590 - accuracy: 1.0000\n",
            "Epoch 64/100\n",
            "20/20 [==============================] - 0s 520us/sample - loss: 0.1536 - accuracy: 1.0000\n",
            "Epoch 65/100\n",
            "20/20 [==============================] - 0s 693us/sample - loss: 0.1484 - accuracy: 1.0000\n",
            "Epoch 66/100\n",
            "20/20 [==============================] - 0s 615us/sample - loss: 0.1433 - accuracy: 1.0000\n",
            "Epoch 67/100\n",
            "20/20 [==============================] - 0s 524us/sample - loss: 0.1384 - accuracy: 1.0000\n",
            "Epoch 68/100\n",
            "20/20 [==============================] - 0s 555us/sample - loss: 0.1337 - accuracy: 1.0000\n",
            "Epoch 69/100\n",
            "20/20 [==============================] - 0s 619us/sample - loss: 0.1292 - accuracy: 1.0000\n",
            "Epoch 70/100\n",
            "20/20 [==============================] - 0s 505us/sample - loss: 0.1248 - accuracy: 1.0000\n",
            "Epoch 71/100\n",
            "20/20 [==============================] - 0s 492us/sample - loss: 0.1206 - accuracy: 1.0000\n",
            "Epoch 72/100\n",
            "20/20 [==============================] - 0s 626us/sample - loss: 0.1166 - accuracy: 1.0000\n",
            "Epoch 73/100\n",
            "20/20 [==============================] - 0s 684us/sample - loss: 0.1127 - accuracy: 1.0000\n",
            "Epoch 74/100\n",
            "20/20 [==============================] - 0s 530us/sample - loss: 0.1090 - accuracy: 1.0000\n",
            "Epoch 75/100\n",
            "20/20 [==============================] - 0s 614us/sample - loss: 0.1054 - accuracy: 1.0000\n",
            "Epoch 76/100\n",
            "20/20 [==============================] - 0s 543us/sample - loss: 0.1019 - accuracy: 1.0000\n",
            "Epoch 77/100\n",
            "20/20 [==============================] - 0s 515us/sample - loss: 0.0986 - accuracy: 1.0000\n",
            "Epoch 78/100\n",
            "20/20 [==============================] - 0s 522us/sample - loss: 0.0954 - accuracy: 1.0000\n",
            "Epoch 79/100\n",
            "20/20 [==============================] - 0s 557us/sample - loss: 0.0923 - accuracy: 1.0000\n",
            "Epoch 80/100\n",
            "20/20 [==============================] - 0s 548us/sample - loss: 0.0894 - accuracy: 1.0000\n",
            "Epoch 81/100\n",
            "20/20 [==============================] - 0s 572us/sample - loss: 0.0866 - accuracy: 1.0000\n",
            "Epoch 82/100\n",
            "20/20 [==============================] - 0s 546us/sample - loss: 0.0838 - accuracy: 1.0000\n",
            "Epoch 83/100\n",
            "20/20 [==============================] - 0s 606us/sample - loss: 0.0812 - accuracy: 1.0000\n",
            "Epoch 84/100\n",
            "20/20 [==============================] - 0s 560us/sample - loss: 0.0787 - accuracy: 1.0000\n",
            "Epoch 85/100\n",
            "20/20 [==============================] - 0s 565us/sample - loss: 0.0763 - accuracy: 1.0000\n",
            "Epoch 86/100\n",
            "20/20 [==============================] - 0s 616us/sample - loss: 0.0740 - accuracy: 1.0000\n",
            "Epoch 87/100\n",
            "20/20 [==============================] - 0s 545us/sample - loss: 0.0718 - accuracy: 1.0000\n",
            "Epoch 88/100\n",
            "20/20 [==============================] - 0s 560us/sample - loss: 0.0697 - accuracy: 1.0000\n",
            "Epoch 89/100\n",
            "20/20 [==============================] - 0s 587us/sample - loss: 0.0676 - accuracy: 1.0000\n",
            "Epoch 90/100\n",
            "20/20 [==============================] - 0s 585us/sample - loss: 0.0657 - accuracy: 1.0000\n",
            "Epoch 91/100\n",
            "20/20 [==============================] - 0s 623us/sample - loss: 0.0638 - accuracy: 1.0000\n",
            "Epoch 92/100\n",
            "20/20 [==============================] - 0s 591us/sample - loss: 0.0620 - accuracy: 1.0000\n",
            "Epoch 93/100\n",
            "20/20 [==============================] - 0s 545us/sample - loss: 0.0602 - accuracy: 1.0000\n",
            "Epoch 94/100\n",
            "20/20 [==============================] - 0s 675us/sample - loss: 0.0586 - accuracy: 1.0000\n",
            "Epoch 95/100\n",
            "20/20 [==============================] - 0s 672us/sample - loss: 0.0570 - accuracy: 1.0000\n",
            "Epoch 96/100\n",
            "20/20 [==============================] - 0s 619us/sample - loss: 0.0554 - accuracy: 1.0000\n",
            "Epoch 97/100\n",
            "20/20 [==============================] - 0s 603us/sample - loss: 0.0539 - accuracy: 1.0000\n",
            "Epoch 98/100\n",
            "20/20 [==============================] - 0s 627us/sample - loss: 0.0525 - accuracy: 1.0000\n",
            "Epoch 99/100\n",
            "20/20 [==============================] - 0s 628us/sample - loss: 0.0511 - accuracy: 1.0000\n",
            "Epoch 100/100\n",
            "20/20 [==============================] - 0s 702us/sample - loss: 0.0498 - accuracy: 1.0000\n"
          ]
        },
        {
          "output_type": "execute_result",
          "data": {
            "text/plain": [
              "<keras.src.callbacks.History at 0x781892e73d30>"
            ]
          },
          "metadata": {},
          "execution_count": 47
        }
      ],
      "source": [
        "\n",
        "num_samples = 1000\n",
        "sequence_length = 2048\n",
        "num_anomalies = 100\n",
        "num_normal = num_samples - num_anomalies\n",
        "predicted_cp0 = np.array(predicted_cp0)\n",
        "predicted_cp0 = np.array(predicted_cp0.astype(int))\n",
        "data = predicted_cp0 #np.random.randint(0, 2, size=(num_samples, sequence_length))\n",
        "labels = [df.anomaly0 for df in list_of_df0]\n",
        "labels = np.array(labels)\n",
        "\n",
        "# Создание модели нейронной сети\n",
        "modellast = tf.keras.Sequential([\n",
        "    tf.keras.layers.Dense(64, activation='relu', input_shape=(sequence_length,)),\n",
        "    tf.keras.layers.Dense(2048, activation='sigmoid')\n",
        "])\n",
        "\n",
        "modellast.compile(optimizer='adam', loss='binary_crossentropy', metrics=['accuracy'])\n",
        "#modellast.add(layers.Dense(2048, activation='relu', input_dim= 2048))\n",
        "#model.add(layers.Dropout(0.5))\n",
        "#model.add(GlobalAveragePooling2D()) or model.add(Flatten())\n",
        "#model.add(layers.Dense(1, activation='sigmoid'))\n",
        "\n",
        "# Обучение модели\n",
        "modellast.fit(data, labels, epochs=100, batch_size=32)"
      ]
    },
    {
      "cell_type": "code",
      "execution_count": null,
      "metadata": {
        "id": "AQ3zQKQleMQm"
      },
      "outputs": [],
      "source": [
        "predicted_cp_test = np.array(predicted_cp_test)\n",
        "predicted_cp_test = np.array(predicted_cp_test.astype(int))\n",
        "data = predicted_cp_test\n",
        "anom = []\n",
        "for pred in modellast.predict(data):\n",
        "    if np.all(pred > 0.5):\n",
        "        anom.append(1)\n",
        "    else:\n",
        "        anom.append(0)"
      ]
    },
    {
      "cell_type": "code",
      "execution_count": null,
      "metadata": {
        "id": "YOcu818uj5w5"
      },
      "outputs": [],
      "source": [
        "modellast.predict(data)"
      ]
    },
    {
      "cell_type": "code",
      "execution_count": null,
      "metadata": {
        "colab": {
          "base_uri": "https://localhost:8080/"
        },
        "id": "C_mVJiMDeMW1",
        "outputId": "42b1d7a3-620e-45bf-8d12-11fb99afa208"
      },
      "outputs": [
        {
          "output_type": "execute_result",
          "data": {
            "text/plain": [
              "0.7928571428571428"
            ]
          },
          "metadata": {},
          "execution_count": 50
        }
      ],
      "source": [
        "true_test = [df.anomaly0.astype(int)[0] for df in list_of_df_test0]\n",
        "accuracy_score(true_test, anom)"
      ]
    },
    {
      "cell_type": "code",
      "execution_count": null,
      "metadata": {
        "colab": {
          "base_uri": "https://localhost:8080/"
        },
        "id": "keAjDQZl2rBx",
        "outputId": "a0886823-ff64-42d4-9b8a-f6afbd112105"
      },
      "outputs": [
        {
          "output_type": "stream",
          "name": "stdout",
          "text": [
            "Accuracy: 0.7928571428571428\n",
            "Precision: 0.9767441860465116\n",
            "Recall: 0.6\n",
            "F1 Score: 0.7433628318584069\n",
            "ROC-AUC Score: 0.792857142857143\n"
          ]
        }
      ],
      "source": [
        "accuracy = accuracy_score(true_test, anom)\n",
        "precision = precision_score(true_test, anom)\n",
        "recall = recall_score(true_test, anom)\n",
        "f1 = f1_score(true_test, anom)\n",
        "roc_auc = roc_auc_score(true_test, anom)\n",
        "\n",
        "print(f'Accuracy: {accuracy}')\n",
        "print(f'Precision: {precision}')\n",
        "print(f'Recall: {recall}')\n",
        "print(f'F1 Score: {f1}')\n",
        "print(f'ROC-AUC Score: {roc_auc}')"
      ]
    },
    {
      "cell_type": "code",
      "source": [
        "anom = pd.DataFrame(anom)\n",
        "true_test = pd.DataFrame(true_test)"
      ],
      "metadata": {
        "id": "dfCcbjyuWaQb"
      },
      "execution_count": null,
      "outputs": []
    },
    {
      "cell_type": "code",
      "execution_count": null,
      "metadata": {
        "id": "CzKwLp1i2rFI"
      },
      "outputs": [],
      "source": [
        "anom.to_csv(\"anomlstmvae.csv\", index = False)\n",
        "true_test.to_csv('truetestlstmvae.csv', index = False)"
      ]
    },
    {
      "cell_type": "code",
      "execution_count": null,
      "metadata": {
        "id": "ZudP_eKIqeM0"
      },
      "outputs": [],
      "source": [
        "true_outlier0 = [df.anomaly0 for df in list_of_df0]\n"
      ]
    },
    {
      "cell_type": "code",
      "execution_count": null,
      "metadata": {
        "id": "zwSOfTifrkNn"
      },
      "outputs": [],
      "source": [
        "model = LSTM_VAE()\n",
        "list_of_df = list_of_df1"
      ]
    },
    {
      "cell_type": "code",
      "execution_count": null,
      "metadata": {
        "colab": {
          "base_uri": "https://localhost:8080/"
        },
        "id": "OwcDHiMKq8iv",
        "outputId": "7b4a36d4-d122-4f7d-e00d-29f909b7f1bf"
      },
      "outputs": [
        {
          "output_type": "stream",
          "name": "stderr",
          "text": [
            "1st loop: 100%|██████████| 20/20 [17:44<00:00, 53.20s/it]"
          ]
        },
        {
          "output_type": "stream",
          "name": "stdout",
          "text": [
            "CPU times: user 23min 12s, sys: 25.4 s, total: 23min 37s\n",
            "Wall time: 17min 44s\n"
          ]
        },
        {
          "output_type": "stream",
          "name": "stderr",
          "text": [
            "\n"
          ]
        }
      ],
      "source": [
        "%%time\n",
        "# inference\n",
        "predicted_outlier, predicted_cp = [], []\n",
        "for df in tqdm(list_of_df, desc='1st loop'):\n",
        "    X_train = df[:400].drop(['anomaly1'], axis=1)\n",
        "\n",
        "    # scaler init and fitting\n",
        "    StSc = StandardScaler()\n",
        "    StSc.fit(X_train)\n",
        "\n",
        "    # convert into input/output\n",
        "    X = create_sequences(StSc.transform(X_train), N_STEPS)\n",
        "\n",
        "    # model fitting\n",
        "    model.fit(X)\n",
        "\n",
        "    # results predicting\n",
        "    residuals = pd.Series(np.sum(np.mean(np.abs(X - model.predict(X)), axis=1), axis=1))\n",
        "    UCL = residuals.quantile(Q) * 3/2\n",
        "\n",
        "    # results predicting\n",
        "    X = create_sequences(StSc.transform(df.drop(['anomaly1'], axis=1)), N_STEPS)\n",
        "    cnn_residuals = pd.Series(np.sum(np.mean(np.abs(X - model.predict(X)), axis=1), axis=1))\n",
        "\n",
        "    # data i is an anomaly if samples [(i - timesteps + 1) to (i)] are anomalies\n",
        "    anomalous_data = cnn_residuals > UCL\n",
        "    anomalous_data_indices = []\n",
        "    for data_idx in range(N_STEPS - 1, len(X) - N_STEPS + 1):\n",
        "        if np.all(anomalous_data[data_idx - N_STEPS + 1 : data_idx]):\n",
        "            anomalous_data_indices.append(data_idx)\n",
        "\n",
        "    prediction = pd.Series(data=0, index=df.index)\n",
        "    prediction.iloc[anomalous_data_indices] = 1\n",
        "\n",
        "    # predicted outliers saving\n",
        "    predicted_outlier.append(prediction)\n",
        "\n",
        "    # predicted CPs saving\n",
        "    prediction_cp = abs(prediction.diff())\n",
        "    prediction_cp[0] = prediction[0]\n",
        "    predicted_cp.append(prediction_cp)"
      ]
    },
    {
      "cell_type": "code",
      "execution_count": null,
      "metadata": {
        "id": "cBgZsPbqOCtd"
      },
      "outputs": [],
      "source": [
        "predicted_outlier_test1, predicted_cp_test1 = [], []\n",
        "for df in list_of_df_test1:\n",
        "    X_test = df.drop(['anomaly1'], axis=1)\n",
        "\n",
        "    # scaler init and fitting\n",
        "    StSc = StandardScaler()\n",
        "    StSc.fit(X_test)\n",
        "\n",
        "    # convert into input/output\n",
        "    X = create_sequences(StSc.transform(X_test), N_STEPS)\n",
        "\n",
        "    # model defining and fitting\n",
        "    #history01, model01 = arch(X0)\n",
        "\n",
        "    # results predicting\n",
        "    residuals = pd.Series(np.sum(np.mean(np.abs(X - model.predict(X)), axis=1), axis=1))\n",
        "    UCL = residuals.quantile(Q)\n",
        "\n",
        "    # results predicting\n",
        "    X = create_sequences(StSc.transform(df.drop(['anomaly1'], axis=1)), N_STEPS)\n",
        "    cnn_residuals = pd.Series(np.sum(np.mean(np.abs(X - model.predict(X)), axis=1), axis=1))\n",
        "\n",
        "    # data i is an anomaly if samples [(i - timesteps + 1) to (i)] are anomalies\n",
        "    anomalous_data = cnn_residuals > (3/2 * UCL)\n",
        "    anomalous_data_indices = []\n",
        "    for data_idx in range(N_STEPS - 1, len(X) - N_STEPS + 1):\n",
        "        if np.all(anomalous_data[data_idx - N_STEPS + 1 : data_idx]):\n",
        "            anomalous_data_indices.append(data_idx)\n",
        "\n",
        "    prediction1 = pd.Series(data=0, index=df.index)\n",
        "    prediction1.iloc[anomalous_data_indices] = 1\n",
        "\n",
        "    # predicted outliers saving\n",
        "    predicted_outlier_test1.append(prediction1)\n",
        "\n",
        "    # predicted CPs saving\n",
        "    prediction_cp1 = abs(prediction1.diff())\n",
        "    prediction_cp1[0] = prediction1[0]\n",
        "    predicted_cp_test1.append(prediction_cp1)"
      ]
    },
    {
      "cell_type": "code",
      "execution_count": null,
      "metadata": {
        "colab": {
          "base_uri": "https://localhost:8080/"
        },
        "outputId": "f4fbf7d4-4ac4-400d-d1c5-28805e037692",
        "id": "VquoTOdMnokv"
      },
      "outputs": [
        {
          "output_type": "stream",
          "name": "stdout",
          "text": [
            "Train on 20 samples\n",
            "Epoch 1/100\n",
            "20/20 [==============================] - 1s 59ms/sample - loss: 0.6932 - accuracy: 0.6516\n",
            "Epoch 2/100\n",
            "20/20 [==============================] - 0s 565us/sample - loss: 0.6922 - accuracy: 0.6765\n",
            "Epoch 3/100\n",
            "20/20 [==============================] - 0s 507us/sample - loss: 0.6910 - accuracy: 0.7032\n",
            "Epoch 4/100\n",
            "20/20 [==============================] - 0s 617us/sample - loss: 0.6897 - accuracy: 0.7278\n",
            "Epoch 5/100\n",
            "20/20 [==============================] - 0s 715us/sample - loss: 0.6881 - accuracy: 0.7505\n",
            "Epoch 6/100\n",
            "20/20 [==============================] - 0s 502us/sample - loss: 0.6862 - accuracy: 0.7714\n",
            "Epoch 7/100\n",
            "20/20 [==============================] - 0s 467us/sample - loss: 0.6840 - accuracy: 0.7909\n",
            "Epoch 8/100\n",
            "20/20 [==============================] - 0s 466us/sample - loss: 0.6814 - accuracy: 0.8064\n",
            "Epoch 9/100\n",
            "20/20 [==============================] - 0s 467us/sample - loss: 0.6784 - accuracy: 0.8212\n",
            "Epoch 10/100\n",
            "20/20 [==============================] - 0s 496us/sample - loss: 0.6750 - accuracy: 0.8333\n",
            "Epoch 11/100\n",
            "20/20 [==============================] - 0s 472us/sample - loss: 0.6711 - accuracy: 0.8419\n",
            "Epoch 12/100\n",
            "20/20 [==============================] - 0s 491us/sample - loss: 0.6668 - accuracy: 0.8487\n",
            "Epoch 13/100\n",
            "20/20 [==============================] - 0s 514us/sample - loss: 0.6620 - accuracy: 0.8524\n",
            "Epoch 14/100\n",
            "20/20 [==============================] - 0s 483us/sample - loss: 0.6566 - accuracy: 0.8548\n",
            "Epoch 15/100\n",
            "20/20 [==============================] - 0s 608us/sample - loss: 0.6506 - accuracy: 0.8561\n",
            "Epoch 16/100\n",
            "20/20 [==============================] - 0s 558us/sample - loss: 0.6441 - accuracy: 0.8567\n",
            "Epoch 17/100\n",
            "20/20 [==============================] - 0s 492us/sample - loss: 0.6370 - accuracy: 0.8574\n",
            "Epoch 18/100\n",
            "20/20 [==============================] - 0s 531us/sample - loss: 0.6294 - accuracy: 0.8579\n",
            "Epoch 19/100\n",
            "20/20 [==============================] - 0s 512us/sample - loss: 0.6211 - accuracy: 0.8583\n",
            "Epoch 20/100\n",
            "20/20 [==============================] - 0s 526us/sample - loss: 0.6124 - accuracy: 0.8585\n",
            "Epoch 21/100\n",
            "20/20 [==============================] - 0s 505us/sample - loss: 0.6031 - accuracy: 0.8591\n",
            "Epoch 22/100\n",
            "20/20 [==============================] - 0s 508us/sample - loss: 0.5933 - accuracy: 0.8600\n",
            "Epoch 23/100\n",
            "20/20 [==============================] - 0s 512us/sample - loss: 0.5830 - accuracy: 0.8609\n",
            "Epoch 24/100\n",
            "20/20 [==============================] - 0s 447us/sample - loss: 0.5723 - accuracy: 0.8619\n",
            "Epoch 25/100\n",
            "20/20 [==============================] - 0s 544us/sample - loss: 0.5612 - accuracy: 0.8635\n",
            "Epoch 26/100\n",
            "20/20 [==============================] - 0s 455us/sample - loss: 0.5499 - accuracy: 0.8653\n",
            "Epoch 27/100\n",
            "20/20 [==============================] - 0s 553us/sample - loss: 0.5383 - accuracy: 0.8677\n",
            "Epoch 28/100\n",
            "20/20 [==============================] - 0s 559us/sample - loss: 0.5265 - accuracy: 0.8708\n",
            "Epoch 29/100\n",
            "20/20 [==============================] - 0s 533us/sample - loss: 0.5146 - accuracy: 0.8737\n",
            "Epoch 30/100\n",
            "20/20 [==============================] - 0s 509us/sample - loss: 0.5028 - accuracy: 0.8766\n",
            "Epoch 31/100\n",
            "20/20 [==============================] - 0s 517us/sample - loss: 0.4910 - accuracy: 0.8808\n",
            "Epoch 32/100\n",
            "20/20 [==============================] - 0s 447us/sample - loss: 0.4793 - accuracy: 0.8845\n",
            "Epoch 33/100\n",
            "20/20 [==============================] - 0s 461us/sample - loss: 0.4679 - accuracy: 0.8889\n",
            "Epoch 34/100\n",
            "20/20 [==============================] - 0s 617us/sample - loss: 0.4568 - accuracy: 0.8942\n",
            "Epoch 35/100\n",
            "20/20 [==============================] - 0s 625us/sample - loss: 0.4461 - accuracy: 0.9003\n",
            "Epoch 36/100\n",
            "20/20 [==============================] - 0s 537us/sample - loss: 0.4357 - accuracy: 0.9054\n",
            "Epoch 37/100\n",
            "20/20 [==============================] - 0s 439us/sample - loss: 0.4258 - accuracy: 0.9104\n",
            "Epoch 38/100\n",
            "20/20 [==============================] - 0s 479us/sample - loss: 0.4164 - accuracy: 0.9167\n",
            "Epoch 39/100\n",
            "20/20 [==============================] - 0s 499us/sample - loss: 0.4074 - accuracy: 0.9220\n",
            "Epoch 40/100\n",
            "20/20 [==============================] - 0s 498us/sample - loss: 0.3989 - accuracy: 0.9278\n",
            "Epoch 41/100\n",
            "20/20 [==============================] - 0s 472us/sample - loss: 0.3909 - accuracy: 0.9328\n",
            "Epoch 42/100\n",
            "20/20 [==============================] - 0s 503us/sample - loss: 0.3834 - accuracy: 0.9377\n",
            "Epoch 43/100\n",
            "20/20 [==============================] - 0s 535us/sample - loss: 0.3763 - accuracy: 0.9424\n",
            "Epoch 44/100\n",
            "20/20 [==============================] - 0s 459us/sample - loss: 0.3697 - accuracy: 0.9467\n",
            "Epoch 45/100\n",
            "20/20 [==============================] - 0s 426us/sample - loss: 0.3635 - accuracy: 0.9518\n",
            "Epoch 46/100\n",
            "20/20 [==============================] - 0s 554us/sample - loss: 0.3577 - accuracy: 0.9568\n",
            "Epoch 47/100\n",
            "20/20 [==============================] - 0s 547us/sample - loss: 0.3522 - accuracy: 0.9611\n",
            "Epoch 48/100\n",
            "20/20 [==============================] - 0s 500us/sample - loss: 0.3471 - accuracy: 0.9643\n",
            "Epoch 49/100\n",
            "20/20 [==============================] - 0s 470us/sample - loss: 0.3423 - accuracy: 0.9669\n",
            "Epoch 50/100\n",
            "20/20 [==============================] - 0s 484us/sample - loss: 0.3378 - accuracy: 0.9704\n",
            "Epoch 51/100\n",
            "20/20 [==============================] - 0s 504us/sample - loss: 0.3335 - accuracy: 0.9736\n",
            "Epoch 52/100\n",
            "20/20 [==============================] - 0s 541us/sample - loss: 0.3295 - accuracy: 0.9763\n",
            "Epoch 53/100\n",
            "20/20 [==============================] - 0s 474us/sample - loss: 0.3257 - accuracy: 0.9789\n",
            "Epoch 54/100\n",
            "20/20 [==============================] - 0s 480us/sample - loss: 0.3221 - accuracy: 0.9820\n",
            "Epoch 55/100\n",
            "20/20 [==============================] - 0s 831us/sample - loss: 0.3186 - accuracy: 0.9845\n",
            "Epoch 56/100\n",
            "20/20 [==============================] - 0s 519us/sample - loss: 0.3154 - accuracy: 0.9866\n",
            "Epoch 57/100\n",
            "20/20 [==============================] - 0s 629us/sample - loss: 0.3122 - accuracy: 0.9886\n",
            "Epoch 58/100\n",
            "20/20 [==============================] - 0s 663us/sample - loss: 0.3092 - accuracy: 0.9908\n",
            "Epoch 59/100\n",
            "20/20 [==============================] - 0s 826us/sample - loss: 0.3063 - accuracy: 0.9924\n",
            "Epoch 60/100\n",
            "20/20 [==============================] - 0s 582us/sample - loss: 0.3036 - accuracy: 0.9940\n",
            "Epoch 61/100\n",
            "20/20 [==============================] - 0s 626us/sample - loss: 0.3009 - accuracy: 0.9949\n",
            "Epoch 62/100\n",
            "20/20 [==============================] - 0s 566us/sample - loss: 0.2983 - accuracy: 0.9961\n",
            "Epoch 63/100\n",
            "20/20 [==============================] - 0s 710us/sample - loss: 0.2957 - accuracy: 0.9973\n",
            "Epoch 64/100\n",
            "20/20 [==============================] - 0s 540us/sample - loss: 0.2933 - accuracy: 0.9978\n",
            "Epoch 65/100\n",
            "20/20 [==============================] - 0s 718us/sample - loss: 0.2909 - accuracy: 0.9983\n",
            "Epoch 66/100\n",
            "20/20 [==============================] - 0s 536us/sample - loss: 0.2885 - accuracy: 0.9987\n",
            "Epoch 67/100\n",
            "20/20 [==============================] - 0s 529us/sample - loss: 0.2862 - accuracy: 0.9992\n",
            "Epoch 68/100\n",
            "20/20 [==============================] - 0s 650us/sample - loss: 0.2839 - accuracy: 0.9994\n",
            "Epoch 69/100\n",
            "20/20 [==============================] - 0s 531us/sample - loss: 0.2817 - accuracy: 0.9996\n",
            "Epoch 70/100\n",
            "20/20 [==============================] - 0s 660us/sample - loss: 0.2795 - accuracy: 0.9997\n",
            "Epoch 71/100\n",
            "20/20 [==============================] - 0s 668us/sample - loss: 0.2773 - accuracy: 0.9999\n",
            "Epoch 72/100\n",
            "20/20 [==============================] - 0s 891us/sample - loss: 0.2752 - accuracy: 0.9999\n",
            "Epoch 73/100\n",
            "20/20 [==============================] - 0s 674us/sample - loss: 0.2731 - accuracy: 1.0000\n",
            "Epoch 74/100\n",
            "20/20 [==============================] - 0s 649us/sample - loss: 0.2710 - accuracy: 1.0000\n",
            "Epoch 75/100\n",
            "20/20 [==============================] - 0s 866us/sample - loss: 0.2689 - accuracy: 1.0000\n",
            "Epoch 76/100\n",
            "20/20 [==============================] - 0s 745us/sample - loss: 0.2669 - accuracy: 1.0000\n",
            "Epoch 77/100\n",
            "20/20 [==============================] - 0s 650us/sample - loss: 0.2649 - accuracy: 1.0000\n",
            "Epoch 78/100\n",
            "20/20 [==============================] - 0s 602us/sample - loss: 0.2628 - accuracy: 1.0000\n",
            "Epoch 79/100\n",
            "20/20 [==============================] - 0s 776us/sample - loss: 0.2608 - accuracy: 1.0000\n",
            "Epoch 80/100\n",
            "20/20 [==============================] - 0s 602us/sample - loss: 0.2588 - accuracy: 1.0000\n",
            "Epoch 81/100\n",
            "20/20 [==============================] - 0s 635us/sample - loss: 0.2568 - accuracy: 1.0000\n",
            "Epoch 82/100\n",
            "20/20 [==============================] - 0s 666us/sample - loss: 0.2548 - accuracy: 1.0000\n",
            "Epoch 83/100\n",
            "20/20 [==============================] - 0s 619us/sample - loss: 0.2529 - accuracy: 1.0000\n",
            "Epoch 84/100\n",
            "20/20 [==============================] - 0s 870us/sample - loss: 0.2509 - accuracy: 1.0000\n",
            "Epoch 85/100\n",
            "20/20 [==============================] - 0s 738us/sample - loss: 0.2489 - accuracy: 1.0000\n",
            "Epoch 86/100\n",
            "20/20 [==============================] - 0s 753us/sample - loss: 0.2470 - accuracy: 1.0000\n",
            "Epoch 87/100\n",
            "20/20 [==============================] - 0s 897us/sample - loss: 0.2450 - accuracy: 1.0000\n",
            "Epoch 88/100\n",
            "20/20 [==============================] - 0s 680us/sample - loss: 0.2431 - accuracy: 1.0000\n",
            "Epoch 89/100\n",
            "20/20 [==============================] - 0s 905us/sample - loss: 0.2412 - accuracy: 1.0000\n",
            "Epoch 90/100\n",
            "20/20 [==============================] - 0s 739us/sample - loss: 0.2392 - accuracy: 1.0000\n",
            "Epoch 91/100\n",
            "20/20 [==============================] - 0s 713us/sample - loss: 0.2373 - accuracy: 1.0000\n",
            "Epoch 92/100\n",
            "20/20 [==============================] - 0s 662us/sample - loss: 0.2354 - accuracy: 1.0000\n",
            "Epoch 93/100\n",
            "20/20 [==============================] - 0s 682us/sample - loss: 0.2335 - accuracy: 1.0000\n",
            "Epoch 94/100\n",
            "20/20 [==============================] - 0s 658us/sample - loss: 0.2316 - accuracy: 1.0000\n",
            "Epoch 95/100\n",
            "20/20 [==============================] - 0s 617us/sample - loss: 0.2297 - accuracy: 1.0000\n",
            "Epoch 96/100\n",
            "20/20 [==============================] - 0s 673us/sample - loss: 0.2278 - accuracy: 1.0000\n",
            "Epoch 97/100\n",
            "20/20 [==============================] - 0s 648us/sample - loss: 0.2259 - accuracy: 1.0000\n",
            "Epoch 98/100\n",
            "20/20 [==============================] - 0s 698us/sample - loss: 0.2240 - accuracy: 1.0000\n",
            "Epoch 99/100\n",
            "20/20 [==============================] - 0s 806us/sample - loss: 0.2221 - accuracy: 1.0000\n",
            "Epoch 100/100\n",
            "20/20 [==============================] - 0s 702us/sample - loss: 0.2203 - accuracy: 1.0000\n"
          ]
        },
        {
          "output_type": "execute_result",
          "data": {
            "text/plain": [
              "<keras.src.callbacks.History at 0x7818a71539a0>"
            ]
          },
          "metadata": {},
          "execution_count": 24
        }
      ],
      "source": [
        "num_samples = 1000\n",
        "sequence_length = 2048\n",
        "num_anomalies = 100\n",
        "num_normal = num_samples - num_anomalies\n",
        "predicted_cp = np.array(predicted_cp)\n",
        "predicted_cp = np.array(predicted_cp.astype(int))\n",
        "data = predicted_cp #np.random.randint(0, 2, size=(num_samples, sequence_length))\n",
        "labels = [df.anomaly1 for df in list_of_df1]\n",
        "labels = np.array(labels)\n",
        "\n",
        "# Создание модели нейронной сети\n",
        "modellast1 = tf.keras.Sequential([\n",
        "    tf.keras.layers.Dense(64, activation='relu', input_shape=(sequence_length,)),\n",
        "    tf.keras.layers.Dense(2048, activation='sigmoid')\n",
        "])\n",
        "\n",
        "modellast1.compile(optimizer='adam', loss='binary_crossentropy', metrics=['accuracy'])\n",
        "\n",
        "\n",
        "# Обучение модели\n",
        "modellast1.fit(data, labels, epochs=100, batch_size=32)"
      ]
    },
    {
      "cell_type": "code",
      "source": [
        "true_outlier_test1 = [df.anomaly1.astype(int) for df in list_of_df_test1]\n",
        "predictpic1 = []\n",
        "truetestpic1 = []\n",
        "for i in process_cp(predicted_cp_test1):\n",
        "    predictpic1.append(i[0])\n",
        "\n",
        "for i in true_outlier_test1:\n",
        "    truetestpic1.append(i[0])\n",
        "predictpic1 = pd.DataFrame(predictpic1)\n",
        "truetestpic1 = pd.DataFrame(truetestpic1)\n",
        "\n",
        "y_true1 = truetestpic1\n",
        "y_pred1 = predictpic1"
      ],
      "metadata": {
        "id": "nKkCc67bsTHJ"
      },
      "execution_count": null,
      "outputs": []
    },
    {
      "cell_type": "code",
      "execution_count": null,
      "metadata": {
        "id": "0JFjdmbPnok8"
      },
      "outputs": [],
      "source": [
        "predicted_cp_test1 = np.array(predicted_cp_test1)\n",
        "predicted_cp_test1 = np.array(predicted_cp_test1.astype(int))\n",
        "data = predicted_cp_test1\n",
        "anom1 = []\n",
        "for pred in modellast1.predict(data):\n",
        "    if np.all(pred > 0.35):\n",
        "        anom1.append(1)\n",
        "    else:\n",
        "        anom1.append(0)"
      ]
    },
    {
      "cell_type": "code",
      "execution_count": null,
      "metadata": {
        "colab": {
          "base_uri": "https://localhost:8080/"
        },
        "outputId": "ec95cbcb-4c75-40f6-932c-4a29141f1357",
        "id": "WP2_8IjRnok9"
      },
      "outputs": [
        {
          "output_type": "execute_result",
          "data": {
            "text/plain": [
              "array([[0.0372653 , 0.04735298, 0.04606653, ..., 0.05034145, 0.04117373,\n",
              "        0.04680938],\n",
              "       [0.00205335, 0.00350027, 0.00340239, ..., 0.00385112, 0.00248388,\n",
              "        0.00330583],\n",
              "       [0.03572262, 0.04585886, 0.04523819, ..., 0.04864196, 0.04167296,\n",
              "        0.04469984],\n",
              "       ...,\n",
              "       [0.33699498, 0.35039908, 0.35011345, ..., 0.35273457, 0.34287417,\n",
              "        0.34901732],\n",
              "       [0.38064754, 0.40357843, 0.39883214, ..., 0.4008176 , 0.3874197 ,\n",
              "        0.38968363],\n",
              "       [0.33838832, 0.3517924 , 0.3464963 , ..., 0.35099587, 0.3443038 ,\n",
              "        0.3535622 ]], dtype=float32)"
            ]
          },
          "metadata": {},
          "execution_count": 54
        }
      ],
      "source": [
        "modellast1.predict(data)"
      ]
    },
    {
      "cell_type": "code",
      "execution_count": null,
      "metadata": {
        "colab": {
          "base_uri": "https://localhost:8080/"
        },
        "outputId": "2480fe0f-89f2-4986-eb74-c16f63fce84c",
        "id": "jBk1NbrYnok9"
      },
      "outputs": [
        {
          "output_type": "execute_result",
          "data": {
            "text/plain": [
              "0.75"
            ]
          },
          "metadata": {},
          "execution_count": 62
        }
      ],
      "source": [
        "true_test1 = [df.anomaly1.astype(int)[0] for df in list_of_df_test1]\n",
        "accuracy_score(true_test1, anom1)"
      ]
    },
    {
      "cell_type": "code",
      "execution_count": null,
      "metadata": {
        "colab": {
          "base_uri": "https://localhost:8080/"
        },
        "outputId": "88910ea6-674f-4800-9693-c0a30e70a6df",
        "id": "n77tDL6Enok-"
      },
      "outputs": [
        {
          "output_type": "stream",
          "name": "stdout",
          "text": [
            "Accuracy: 0.75\n",
            "Precision: 0.0\n",
            "Recall: 0.0\n",
            "F1 Score: 0.0\n",
            "ROC-AUC Score: 0.5\n"
          ]
        }
      ],
      "source": [
        "accuracy = accuracy_score(true_test1, anom1)\n",
        "precision = precision_score(true_test1, anom1)\n",
        "recall = recall_score(true_test1, anom1)\n",
        "f1 = f1_score(true_test1, anom1)\n",
        "roc_auc = roc_auc_score(true_test1, anom1)\n",
        "\n",
        "print(f'Accuracy: {accuracy}')\n",
        "print(f'Precision: {precision}')\n",
        "print(f'Recall: {recall}')\n",
        "print(f'F1 Score: {f1}')\n",
        "print(f'ROC-AUC Score: {roc_auc}')"
      ]
    },
    {
      "cell_type": "code",
      "source": [
        "true = []\n",
        "for i in range(len(y_true)):\n",
        "    true.append([y_true.iloc[i][0], y_true1.iloc[i][0]])"
      ],
      "metadata": {
        "id": "Xc7dVIcgOVlc"
      },
      "execution_count": null,
      "outputs": []
    },
    {
      "cell_type": "code",
      "source": [
        "pred = []\n",
        "for i in range(len(y_pred)):\n",
        "    pred.append([anom[i], anom1[i]])"
      ],
      "metadata": {
        "id": "iFN_qV-SyUF3"
      },
      "execution_count": null,
      "outputs": []
    },
    {
      "cell_type": "code",
      "source": [
        "accuracy_f = accuracy_score(true, pred)\n",
        "print(f'Accuracy: {accuracy_f}')"
      ],
      "metadata": {
        "colab": {
          "base_uri": "https://localhost:8080/"
        },
        "outputId": "5572bb6e-0b42-466b-db78-00db2b9c8ff3",
        "id": "2aJMTyG8OVld"
      },
      "execution_count": null,
      "outputs": [
        {
          "output_type": "stream",
          "name": "stdout",
          "text": [
            "Accuracy: 0.6142857142857143\n"
          ]
        }
      ]
    },
    {
      "cell_type": "code",
      "source": [
        "true = np.array(true)\n",
        "pred = np.array(pred)"
      ],
      "metadata": {
        "id": "lPPzYV9fOVld"
      },
      "execution_count": null,
      "outputs": []
    },
    {
      "cell_type": "code",
      "source": [
        "y_true_flat = true.flatten()\n",
        "y_pred_flat = pred.flatten()\n",
        "\n",
        "# Вычисляем метрики\n",
        "accuracy = accuracy_score(true, pred)\n",
        "precision = precision_score(y_true_flat, y_pred_flat)\n",
        "recall = recall_score(y_true_flat, y_pred_flat)\n",
        "f1 = f1_score(y_true_flat, y_pred_flat)\n",
        "roc_auc = roc_auc_score(y_true_flat, y_pred_flat)\n",
        "print(f'Accuracy: {accuracy}')\n",
        "print(f'Precision: {precision}')\n",
        "print(f'Recall: {recall}')\n",
        "print(f'F1 Score: {f1}')\n",
        "print(f'ROC-AUC Score: {roc_auc}')"
      ],
      "metadata": {
        "colab": {
          "base_uri": "https://localhost:8080/"
        },
        "outputId": "cbf6e83c-86fe-455f-95e8-714a7d9fc920",
        "id": "kB3t86CDOVld"
      },
      "execution_count": null,
      "outputs": [
        {
          "output_type": "stream",
          "name": "stdout",
          "text": [
            "Accuracy: 0.6142857142857143\n",
            "Precision: 0.9767441860465116\n",
            "Recall: 0.4\n",
            "F1 Score: 0.5675675675675677\n",
            "ROC-AUC Score: 0.6971428571428571\n"
          ]
        }
      ]
    },
    {
      "cell_type": "code",
      "execution_count": null,
      "metadata": {
        "id": "L5sgyV2lq7-B"
      },
      "outputs": [],
      "source": []
    },
    {
      "cell_type": "code",
      "execution_count": null,
      "metadata": {
        "id": "2KVp7Kn6q765"
      },
      "outputs": [],
      "source": []
    }
  ],
  "metadata": {
    "colab": {
      "provenance": []
    },
    "kernelspec": {
      "display_name": "Python 3",
      "name": "python3"
    },
    "language_info": {
      "codemirror_mode": {
        "name": "ipython",
        "version": 3
      },
      "file_extension": ".py",
      "mimetype": "text/x-python",
      "name": "python",
      "nbconvert_exporter": "python",
      "pygments_lexer": "ipython3",
      "version": "3.10.9"
    }
  },
  "nbformat": 4,
  "nbformat_minor": 0
}